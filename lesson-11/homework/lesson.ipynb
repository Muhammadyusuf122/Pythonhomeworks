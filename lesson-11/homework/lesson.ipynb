{
 "cells": [
  {
   "cell_type": "code",
   "execution_count": 1,
   "metadata": {},
   "outputs": [],
   "source": [
    "import sqlite3"
   ]
  },
  {
   "cell_type": "code",
   "execution_count": 2,
   "metadata": {},
   "outputs": [],
   "source": [
    "connection =  sqlite3.connect(\"test.db\")"
   ]
  },
  {
   "cell_type": "code",
   "execution_count": 3,
   "metadata": {},
   "outputs": [
    {
     "name": "stdout",
     "output_type": "stream",
     "text": [
      "('Benjamin Sisko', 'Human', 40, None)\n",
      "('Kira Nerys', 'Bajoran', 29, None)\n",
      "('Benjamin Sisko', None, None, 'Captain')\n",
      "('Ezri Dax', None, None, 'Lieutenant')\n",
      "('Kira Nerys', None, None, 'Major')\n"
     ]
    }
   ],
   "source": [
    "import sqlite3\n",
    "with sqlite3.connect(\"roster.db\") as connection:\n",
    "    cursor = connection.cursor()\n",
    "    cursor.execute(\n",
    "        \"DROP TABLE IF EXISTS ROSTER;\"\n",
    "        )\n",
    "    cursor.execute(\n",
    "        \"\"\"CREATE TABLE ROSTER(\n",
    "        name text,\n",
    "        species text,\n",
    "        age int\n",
    "        )\"\"\"\n",
    ")\n",
    "    data= (\n",
    "('Benjamin Sisko','Human',40),\n",
    "('Jadzia Dax','Trill',300),\n",
    "('Kira Nerys','Bajoran',29)\n",
    ")\n",
    "    cursor.executemany(\n",
    "        \"\"\"Insert into ROSTER(name,species,age) Values(?,?,?);\"\"\", data\n",
    ")\n",
    "    cursor.execute(\n",
    "        \"Update ROSTER SET name='Ezri Dax' where name='Jadzia Dax'; \"\n",
    "    )\n",
    "    cursor.execute(\n",
    "        \"Select name, age FROM ROSTER where species='Bajoran'; \"\n",
    "    )\n",
    "    cursor.execute(\n",
    "        \"DELETE FROM ROSTER WHERE AGE>100;\"\n",
    "    )\n",
    "    cursor.execute(\n",
    "        \"Alter table ROSTER ADD COLUMN RANK TEXT;\"\n",
    ")\n",
    "    ranks = (\n",
    "        ('Benjamin Sisko',\t'Captain'),\n",
    "        ('Ezri Dax',\t'Lieutenant'),\n",
    "        ('Kira Nerys','Major')\n",
    ")\n",
    "    cursor.executemany(\n",
    "        \"Insert into ROSTER(name,rank) VALUES(?,?);\", ranks \n",
    "    )\n",
    "    cursor.execute(\n",
    "        \"SELECT *FROM ROSTER ORDER BY age DESC;\"\n",
    "    )\n",
    "rows= cursor.fetchall()\n",
    "for row in rows:\n",
    "    print(row)"
   ]
  },
  {
   "cell_type": "code",
   "execution_count": 3,
   "metadata": {},
   "outputs": [
    {
     "data": {
      "text/plain": [
       "sqlite3.Connection"
      ]
     },
     "execution_count": 3,
     "metadata": {},
     "output_type": "execute_result"
    }
   ],
   "source": [
    "type(connection)"
   ]
  },
  {
   "cell_type": "code",
   "execution_count": 4,
   "metadata": {},
   "outputs": [],
   "source": [
    "con = sqlite3.connect(\":memory:\")"
   ]
  },
  {
   "cell_type": "code",
   "execution_count": 11,
   "metadata": {},
   "outputs": [
    {
     "data": {
      "text/plain": [
       "('2025-03-09 12:51:24',)"
      ]
     },
     "execution_count": 11,
     "metadata": {},
     "output_type": "execute_result"
    }
   ],
   "source": [
    "con = sqlite3.connect(\":memory:\")\n",
    "\n",
    "query = \"Select datetime('now', 'localtime') \"\n",
    "\n",
    "cursor =  con.cursor()\n",
    "time = cursor.execute(query)\n",
    "\n",
    "time.fetchone()\n",
    "\n",
    "# con.close()"
   ]
  },
  {
   "cell_type": "markdown",
   "metadata": {},
   "source": [
    "## using \"with\" keyword"
   ]
  },
  {
   "cell_type": "code",
   "execution_count": 33,
   "metadata": {},
   "outputs": [
    {
     "data": {
      "text/plain": [
       "('2025-03-09 13:14:00',)"
      ]
     },
     "execution_count": 33,
     "metadata": {},
     "output_type": "execute_result"
    }
   ],
   "source": [
    "with sqlite3.connect(\"test.db\") as connection:\n",
    "    cursor = connection.cursor()\n",
    "    query = \"Select datetime('now', 'localtime')\"\n",
    "    data = cursor.execute(query)\n",
    "\n",
    "data.fetchone()"
   ]
  },
  {
   "cell_type": "code",
   "execution_count": 91,
   "metadata": {},
   "outputs": [],
   "source": [
    "with sqlite3.connect(\"StudentSs.db\") as connection:\n",
    "    cursor =  connection.cursor()\n",
    "    query = \"Create table Students(fname text,lname text, age int);\"\n",
    "    data = cursor.execute(query)"
   ]
  },
  {
   "cell_type": "code",
   "execution_count": 92,
   "metadata": {},
   "outputs": [],
   "source": [
    "with sqlite3.connect(\"Students.db\") as connection:\n",
    "    cursor =  connection.cursor()\n",
    "    query = \"Insert info Students Values('Ali','Valiyev', 21);\""
   ]
  },
  {
   "cell_type": "code",
   "execution_count": 93,
   "metadata": {},
   "outputs": [],
   "source": [
    "create = \"\"\"\n",
    "Create table Students(fname text, lname text, age int);\n",
    "\"\"\"\n",
    "insert = \"\"\"\n",
    "Insert Info Students Values(('Ali','Valiyev', 21), ('Ali','Valiyev', 21), ('Ali','Valiyev', 21), ('Ali','Valiyev', 21))\n",
    "\"\"\"\n",
    "delete = \"\"\"\n",
    "Drop table students\n",
    "\"\"\""
   ]
  },
  {
   "cell_type": "code",
   "execution_count": 96,
   "metadata": {},
   "outputs": [
    {
     "ename": "OperationalError",
     "evalue": "near \"Info\": syntax error",
     "output_type": "error",
     "traceback": [
      "\u001b[1;31m---------------------------------------------------------------------------\u001b[0m",
      "\u001b[1;31mOperationalError\u001b[0m                          Traceback (most recent call last)",
      "Cell \u001b[1;32mIn[96], line 3\u001b[0m\n\u001b[0;32m      1\u001b[0m \u001b[38;5;28;01mwith\u001b[39;00m sqlite3\u001b[38;5;241m.\u001b[39mconnect(\u001b[38;5;124m\"\u001b[39m\u001b[38;5;124mshtudents.db\u001b[39m\u001b[38;5;124m\"\u001b[39m) \u001b[38;5;28;01mas\u001b[39;00m con:\n\u001b[0;32m      2\u001b[0m     cursor \u001b[38;5;241m=\u001b[39m con\u001b[38;5;241m.\u001b[39mcursor()\n\u001b[1;32m----> 3\u001b[0m     \u001b[43mcursor\u001b[49m\u001b[38;5;241;43m.\u001b[39;49m\u001b[43mexecute\u001b[49m\u001b[43m(\u001b[49m\u001b[43minsert\u001b[49m\u001b[43m)\u001b[49m\n\u001b[0;32m      4\u001b[0m     cursor\u001b[38;5;241m.\u001b[39mexecute(insert)\n\u001b[0;32m      5\u001b[0m     cursor\u001b[38;5;241m.\u001b[39mexecute(delete)\n",
      "\u001b[1;31mOperationalError\u001b[0m: near \"Info\": syntax error"
     ]
    }
   ],
   "source": [
    "with sqlite3.connect(\"shtudents.db\") as con:\n",
    "    cursor = con.cursor()\n",
    "    cursor.execute(insert)\n",
    "    cursor.execute(insert)\n",
    "    cursor.execute(delete)"
   ]
  },
  {
   "cell_type": "code",
   "execution_count": null,
   "metadata": {},
   "outputs": [],
   "source": []
  },
  {
   "cell_type": "code",
   "execution_count": 88,
   "metadata": {},
   "outputs": [],
   "source": [
    "sql = \"\"\" \n",
    "Drop table if exists Students;\n",
    "\n",
    "Create table Students(fname text, lname text, age int);\n",
    "('Ali','Valiyev', 21),\n",
    "('Alimardon','  Xojayev', 31)\n",
    "('Alisher','Validher', 41)\n",
    "('Husan','  Ahayev', 51)\n",
    "('Aliquli','Husanev', 61)\n",
    "\"\"\""
   ]
  },
  {
   "cell_type": "code",
   "execution_count": 97,
   "metadata": {},
   "outputs": [
    {
     "ename": "OperationalError",
     "evalue": "near \"(\": syntax error",
     "output_type": "error",
     "traceback": [
      "\u001b[1;31m---------------------------------------------------------------------------\u001b[0m",
      "\u001b[1;31mOperationalError\u001b[0m                          Traceback (most recent call last)",
      "Cell \u001b[1;32mIn[97], line 3\u001b[0m\n\u001b[0;32m      1\u001b[0m \u001b[38;5;28;01mwith\u001b[39;00m sqlite3\u001b[38;5;241m.\u001b[39mconnect(\u001b[38;5;124m\"\u001b[39m\u001b[38;5;124mstudentssTest.db\u001b[39m\u001b[38;5;124m\"\u001b[39m) \u001b[38;5;28;01mas\u001b[39;00m con:\n\u001b[0;32m      2\u001b[0m     cursor \u001b[38;5;241m=\u001b[39m con\u001b[38;5;241m.\u001b[39mcursor()\n\u001b[1;32m----> 3\u001b[0m     \u001b[43mcursor\u001b[49m\u001b[38;5;241;43m.\u001b[39;49m\u001b[43mexecutescript\u001b[49m\u001b[43m(\u001b[49m\u001b[43msql\u001b[49m\u001b[43m)\u001b[49m\n",
      "\u001b[1;31mOperationalError\u001b[0m: near \"(\": syntax error"
     ]
    }
   ],
   "source": [
    "with sqlite3.connect(\"studentssTest.db\") as con:\n",
    "    cursor = con.cursor()\n",
    "    cursor.executescript(sql)"
   ]
  },
  {
   "cell_type": "code",
   "execution_count": 76,
   "metadata": {},
   "outputs": [],
   "source": [
    "student_values = (\n",
    "('Ali','Valiyev', 21),\n",
    "('Alimardon','  Xojayev', 31),\n",
    "('Alisher','Validher', 41),\n",
    "('Husan','  Ahayev', 51),\n",
    "('Aliquli','Husanev', 61),\n",
    ")"
   ]
  },
  {
   "cell_type": "code",
   "execution_count": 77,
   "metadata": {},
   "outputs": [
    {
     "ename": "OperationalError",
     "evalue": "near \"info\": syntax error",
     "output_type": "error",
     "traceback": [
      "\u001b[1;31m---------------------------------------------------------------------------\u001b[0m",
      "\u001b[1;31mOperationalError\u001b[0m                          Traceback (most recent call last)",
      "Cell \u001b[1;32mIn[77], line 3\u001b[0m\n\u001b[0;32m      1\u001b[0m \u001b[38;5;28;01mwith\u001b[39;00m sqlite3\u001b[38;5;241m.\u001b[39mconnect(\u001b[38;5;124m\"\u001b[39m\u001b[38;5;124mstudent.db\u001b[39m\u001b[38;5;124m\"\u001b[39m) \u001b[38;5;28;01mas\u001b[39;00m con:\n\u001b[0;32m      2\u001b[0m     cursor \u001b[38;5;241m=\u001b[39m con\u001b[38;5;241m.\u001b[39mcursor()\n\u001b[1;32m----> 3\u001b[0m     data \u001b[38;5;241m=\u001b[39m \u001b[43mcursor\u001b[49m\u001b[38;5;241;43m.\u001b[39;49m\u001b[43mexecutemany\u001b[49m\u001b[43m(\u001b[49m\u001b[38;5;124;43m\"\u001b[39;49m\u001b[38;5;124;43minsert info Students Values (?,?,?)\u001b[39;49m\u001b[38;5;124;43m\"\u001b[39;49m\u001b[43m,\u001b[49m\u001b[43m \u001b[49m\u001b[43mstudent_values\u001b[49m\u001b[43m)\u001b[49m\n",
      "\u001b[1;31mOperationalError\u001b[0m: near \"info\": syntax error"
     ]
    }
   ],
   "source": [
    "with sqlite3.connect(\"student.db\") as con:\n",
    "    cursor = con.cursor()\n",
    "    data = cursor.executemany(\"insert info Students Values (?,?,?)\", student_values)"
   ]
  },
  {
   "cell_type": "code",
   "execution_count": null,
   "metadata": {},
   "outputs": [],
   "source": []
  },
  {
   "cell_type": "code",
   "execution_count": null,
   "metadata": {},
   "outputs": [],
   "source": []
  },
  {
   "cell_type": "code",
   "execution_count": null,
   "metadata": {},
   "outputs": [],
   "source": []
  }
 ],
 "metadata": {
  "kernelspec": {
   "display_name": "Python 3",
   "language": "python",
   "name": "python3"
  },
  "language_info": {
   "codemirror_mode": {
    "name": "ipython",
    "version": 3
   },
   "file_extension": ".py",
   "mimetype": "text/x-python",
   "name": "python",
   "nbconvert_exporter": "python",
   "pygments_lexer": "ipython3",
   "version": "3.10.10"
  }
 },
 "nbformat": 4,
 "nbformat_minor": 2
}
