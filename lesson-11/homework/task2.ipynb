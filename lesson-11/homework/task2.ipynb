{
 "cells": [
  {
   "cell_type": "code",
   "execution_count": 1,
   "metadata": {},
   "outputs": [
    {
     "name": "stdout",
     "output_type": "stream",
     "text": [
      "('Benjamin Sisko', 'Human', 40, None)\n",
      "('Kira Nerys', 'Bajoran', 29, None)\n",
      "('Benjamin Sisko', None, None, 'Captain')\n",
      "('Ezri Dax', None, None, 'Lieutenant')\n",
      "('Kira Nerys', None, None, 'Major')\n"
     ]
    }
   ],
   "source": [
    "import sqlite3\n",
    "with sqlite3.connect(\"roster.db\") as connection:\n",
    "    cursor = connection.cursor()\n",
    "    cursor.execute(\n",
    "        \"DROP TABLE IF EXISTS ROSTER;\"\n",
    "        )\n",
    "    cursor.execute(\n",
    "        \"\"\"CREATE TABLE ROSTER(\n",
    "        name text,\n",
    "        species text,\n",
    "        age int\n",
    "        )\"\"\"\n",
    ")\n",
    "    data= (\n",
    "('Benjamin Sisko','Human',40),\n",
    "('Jadzia Dax','Trill',300),\n",
    "('Kira Nerys','Bajoran',29)\n",
    ")\n",
    "    cursor.executemany(\n",
    "        \"\"\"Insert into ROSTER(name,species,age) Values(?,?,?);\"\"\", data\n",
    ")\n",
    "    cursor.execute(\n",
    "        \"Update ROSTER SET name='Ezri Dax' where name='Jadzia Dax'; \"\n",
    "    )\n",
    "    cursor.execute(\n",
    "        \"Select name, age FROM ROSTER where species='Bajoran'; \"\n",
    "    )\n",
    "    cursor.execute(\n",
    "        \"DELETE FROM ROSTER WHERE AGE>100;\"\n",
    "    )\n",
    "    cursor.execute(\n",
    "        \"Alter table ROSTER ADD COLUMN RANK TEXT;\"\n",
    ")\n",
    "    ranks = (\n",
    "        ('Benjamin Sisko',\t'Captain'),\n",
    "        ('Ezri Dax',\t'Lieutenant'),\n",
    "        ('Kira Nerys','Major')\n",
    ")\n",
    "    cursor.executemany(\n",
    "        \"Insert into ROSTER(name,rank) VALUES(?,?);\", ranks \n",
    "    )\n",
    "    cursor.execute(\n",
    "        \"SELECT *FROM ROSTER ORDER BY age DESC;\"\n",
    "    )\n",
    "rows= cursor.fetchall()\n",
    "for row in rows:\n",
    "    print(row)"
   ]
  }
 ],
 "metadata": {
  "kernelspec": {
   "display_name": "Python 3",
   "language": "python",
   "name": "python3"
  },
  "language_info": {
   "codemirror_mode": {
    "name": "ipython",
    "version": 3
   },
   "file_extension": ".py",
   "mimetype": "text/x-python",
   "name": "python",
   "nbconvert_exporter": "python",
   "pygments_lexer": "ipython3",
   "version": "3.10.10"
  }
 },
 "nbformat": 4,
 "nbformat_minor": 2
}
