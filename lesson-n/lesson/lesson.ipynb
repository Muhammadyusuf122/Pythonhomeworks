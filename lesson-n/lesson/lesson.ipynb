{
 "cells": [
  {
   "cell_type": "code",
   "execution_count": 1,
   "metadata": {},
   "outputs": [],
   "source": [
    "import numpy as np\n"
   ]
  },
  {
   "cell_type": "code",
   "execution_count": 2,
   "metadata": {},
   "outputs": [
    {
     "name": "stdout",
     "output_type": "stream",
     "text": [
      "[1 2 3 4 5]\n"
     ]
    }
   ],
   "source": [
    "import numpy as np\n",
    "arr =  np.array([1,2,3,4,5])\n",
    "print(arr)"
   ]
  },
  {
   "cell_type": "code",
   "execution_count": 4,
   "metadata": {},
   "outputs": [
    {
     "name": "stdout",
     "output_type": "stream",
     "text": [
      "[[1 2 3]\n",
      " [4 5 6]]\n"
     ]
    }
   ],
   "source": [
    "arr_2d = np.array([[1,2,3], [4,5,6]])\n",
    "print(arr_2d)"
   ]
  },
  {
   "cell_type": "code",
   "execution_count": 7,
   "metadata": {},
   "outputs": [
    {
     "name": "stdout",
     "output_type": "stream",
     "text": [
      "Shape: (2, 4)\n",
      "Size: 8\n",
      "Data type: int64\n"
     ]
    }
   ],
   "source": [
    "arr = np.array(([[1,2,3,4], \n",
    "                 [4,5,6,7]]))\n",
    "print(\"Shape:\", arr.shape) #rows, cloumns\n",
    "print(\"Size:\", arr.size)\n",
    "print(\"Data type:\", arr.dtype)\n",
    "\n"
   ]
  },
  {
   "cell_type": "code",
   "execution_count": 9,
   "metadata": {},
   "outputs": [
    {
     "name": "stdout",
     "output_type": "stream",
     "text": [
      "[[0. 0. 0. 0.]\n",
      " [0. 0. 0. 0.]\n",
      " [0. 0. 0. 0.]]\n"
     ]
    }
   ],
   "source": [
    "zeros_arr = np.zeros((3,4)) #3*4\n",
    "print(zeros_arr)"
   ]
  },
  {
   "cell_type": "code",
   "execution_count": 10,
   "metadata": {},
   "outputs": [
    {
     "name": "stdout",
     "output_type": "stream",
     "text": [
      "[[1. 1.]\n",
      " [1. 1.]]\n"
     ]
    }
   ],
   "source": [
    "ones_arr = np.ones((2,2))\n",
    "print(ones_arr)"
   ]
  },
  {
   "cell_type": "code",
   "execution_count": 11,
   "metadata": {},
   "outputs": [
    {
     "name": "stdout",
     "output_type": "stream",
     "text": [
      "[[1. 0. 0.]\n",
      " [0. 1. 0.]\n",
      " [0. 0. 1.]]\n"
     ]
    }
   ],
   "source": [
    "identity_matrix = np.eye(3)\n",
    "print(identity_matrix)"
   ]
  },
  {
   "cell_type": "code",
   "execution_count": 13,
   "metadata": {},
   "outputs": [
    {
     "name": "stdout",
     "output_type": "stream",
     "text": [
      "[0 1 2 3 4 5 6 7 8 9]\n"
     ]
    }
   ],
   "source": [
    "range_arr = np.arange(10)\n",
    "print(range_arr)"
   ]
  },
  {
   "cell_type": "code",
   "execution_count": 20,
   "metadata": {},
   "outputs": [
    {
     "name": "stdout",
     "output_type": "stream",
     "text": [
      "[0 2 4 6 8]\n"
     ]
    }
   ],
   "source": [
    "range_arr = np.arange(0,10,2)\n",
    "print(range_arr)"
   ]
  },
  {
   "cell_type": "code",
   "execution_count": 21,
   "metadata": {},
   "outputs": [
    {
     "name": "stdout",
     "output_type": "stream",
     "text": [
      "Addition: [5 7 9]\n",
      "Subtraction: [-3 -3 -3]\n",
      "Multiplication: [ 4 10 18]\n",
      "Division: [0.25 0.4  0.5 ]\n"
     ]
    }
   ],
   "source": [
    "a = np.array([1,2,3])\n",
    "b = np.array([4,5,6])\n",
    "print(\"Addition:\", a+b)\n",
    "print(\"Subtraction:\", a-b)\n",
    "print(\"Multiplication:\", a*b)\n",
    "print(\"Division:\", a/b)"
   ]
  },
  {
   "cell_type": "code",
   "execution_count": 23,
   "metadata": {},
   "outputs": [
    {
     "name": "stdout",
     "output_type": "stream",
     "text": [
      "Dot product: 32\n"
     ]
    }
   ],
   "source": [
    "dot_product = np.dot(a,b)\n",
    "print(\"Dot product:\", dot_product)"
   ]
  },
  {
   "cell_type": "code",
   "execution_count": 30,
   "metadata": {},
   "outputs": [
    {
     "name": "stdout",
     "output_type": "stream",
     "text": [
      "[1 2 3 4 5 6 7 8 9]\n",
      "[[1 2 3]\n",
      " [4 5 6]\n",
      " [7 8 9]]\n"
     ]
    }
   ],
   "source": [
    "arr = np.arange(1,10)\n",
    "print(arr)\n",
    "reshaped_arr = arr.reshape(3,3)\n",
    "print(reshaped_arr)"
   ]
  },
  {
   "cell_type": "code",
   "execution_count": 31,
   "metadata": {},
   "outputs": [
    {
     "name": "stdout",
     "output_type": "stream",
     "text": [
      "First element: 1\n",
      "Slice from index 1 to 3: [2 3 4]\n"
     ]
    }
   ],
   "source": [
    "arr = np.array([1,2,3,4,5,6])\n",
    "print(\"First element:\", arr[0])\n",
    "print(\"Slice from index 1 to 3:\", arr[1:4])"
   ]
  },
  {
   "cell_type": "code",
   "execution_count": 33,
   "metadata": {},
   "outputs": [
    {
     "name": "stdout",
     "output_type": "stream",
     "text": [
      "Element at row 1, column 2: [[1 2 3]\n",
      " [4 5 6]]\n",
      "First row: [1 2 3]\n",
      "Second column: [2 5]\n"
     ]
    }
   ],
   "source": [
    "arr_2d = np.array([[1,2,3], [4,5,6]])\n",
    "print(\"Element at row 1, column 2:\", arr_2d)\n",
    "print(\"First row:\", arr_2d[0, :])\n",
    "print(\"Second column:\", arr_2d[:, 1])\n"
   ]
  },
  {
   "cell_type": "code",
   "execution_count": 35,
   "metadata": {},
   "outputs": [
    {
     "name": "stdout",
     "output_type": "stream",
     "text": [
      "Sum: 115\n",
      "Mean: 19.166666666666668\n",
      "Min: 1\n",
      "Max: 100\n"
     ]
    }
   ],
   "source": [
    "arr = np.array([1,2,3,4,100,5])\n",
    "print(\"Sum:\", np.sum(arr))\n",
    "print(\"Mean:\", np.mean(arr))\n",
    "print(\"Min:\", np.min(arr))\n",
    "print(\"Max:\", np.max(arr))"
   ]
  },
  {
   "cell_type": "code",
   "execution_count": 36,
   "metadata": {},
   "outputs": [
    {
     "name": "stdout",
     "output_type": "stream",
     "text": [
      "[[0.78218982 0.99852121 0.80142536]\n",
      " [0.86265506 0.31886018 0.39756823]\n",
      " [0.77176512 0.68416996 0.06452099]]\n"
     ]
    }
   ],
   "source": [
    "random_arr = np.random.random((3,3))\n",
    "print(random_arr)"
   ]
  },
  {
   "cell_type": "code",
   "execution_count": 44,
   "metadata": {},
   "outputs": [
    {
     "name": "stdout",
     "output_type": "stream",
     "text": [
      "[[8 2 7]\n",
      " [2 4 4]]\n"
     ]
    }
   ],
   "source": [
    "random_int = np.random.randint(1,10, size =(2,3))\n",
    "print(random_int)"
   ]
  },
  {
   "cell_type": "code",
   "execution_count": 60,
   "metadata": {},
   "outputs": [
    {
     "name": "stdout",
     "output_type": "stream",
     "text": [
      "[[78 14 31 84]\n",
      " [29 89 68 20]\n",
      " [ 4 29 61 98]\n",
      " [78  7 84 11]]\n",
      "Random mean in each row: 51.75\n",
      "Random mean in each column: 51.5\n",
      "reshape random: [[78 14 31 84 29 89 68 20]\n",
      " [ 4 29 61 98 78  7 84 11]]\n",
      "Sum of each column: 206\n"
     ]
    }
   ],
   "source": [
    "random_numbers = np.random.randint(1,100, size= (4,4))\n",
    "print(random_numbers)\n",
    "print(\"Random mean in each row:\", np.mean(random_numbers[0,:]))\n",
    "print(\"Random mean in each column:\", np.mean(random_numbers[1,:]))\n",
    "print(\"reshape random:\", random_numbers.reshape(2,8))\n",
    "print(\"Sum of each column:\", np.sum(random_numbers[1,:]))"
   ]
  },
  {
   "cell_type": "code",
   "execution_count": 45,
   "metadata": {},
   "outputs": [],
   "source": [
    "arr = np.array([1,2,3])\n",
    "np.save(\"My array.npy\", arr)"
   ]
  },
  {
   "cell_type": "code",
   "execution_count": 48,
   "metadata": {},
   "outputs": [
    {
     "name": "stdout",
     "output_type": "stream",
     "text": [
      "[1 2 3]\n"
     ]
    }
   ],
   "source": [
    "loaded_arr = np.load('My array.npy')\n",
    "print(loaded_arr)"
   ]
  },
  {
   "cell_type": "code",
   "execution_count": null,
   "metadata": {},
   "outputs": [
    {
     "name": "stdout",
     "output_type": "stream",
     "text": [
      "[10 49]\n"
     ]
    }
   ],
   "source": [
    "import numpy as np\n",
    "vector = np.array((10:49))\n",
    "print(vector)\n",
    "\n"
   ]
  },
  {
   "cell_type": "code",
   "execution_count": 5,
   "metadata": {},
   "outputs": [
    {
     "data": {
      "text/plain": [
       "np.float64(217.66028576660466)"
      ]
     },
     "execution_count": 5,
     "metadata": {},
     "output_type": "execute_result"
    }
   ],
   "source": [
    "np.sqrt(np.sum(a**2))"
   ]
  },
  {
   "cell_type": "code",
   "execution_count": 4,
   "metadata": {},
   "outputs": [
    {
     "data": {
      "text/plain": [
       "np.float64(113.93689986282581)"
      ]
     },
     "execution_count": 4,
     "metadata": {},
     "output_type": "execute_result"
    }
   ],
   "source": [
    "a = np.array([\n",
    "    10, 12, 15, 18, 20, 22, 25, 30, 28, 26, 24, 30, 35, 40, 38, 36, 34, 32, 30, 25,\n",
    "    20, 15, 12, 10, 15, 20, 25, 30, 35, 40, 45, 50, 48, 46, 44, 42, 40, 38, 36, 35,\n",
    "    33, 32, 31, 30, 28, 26, 24, 22, 20, 18, 16, 14, 12, 10])\n",
    "((a- a.mean()) **2).mean()"
   ]
  },
  {
   "cell_type": "code",
   "execution_count": 8,
   "metadata": {},
   "outputs": [
    {
     "data": {
      "text/plain": [
       "np.float64(113.93689986282583)"
      ]
     },
     "execution_count": 8,
     "metadata": {},
     "output_type": "execute_result"
    }
   ],
   "source": [
    "np.std(a)**2"
   ]
  },
  {
   "cell_type": "code",
   "execution_count": 12,
   "metadata": {},
   "outputs": [
    {
     "ename": "FileNotFoundError",
     "evalue": "[Errno 2] No such file or directory: 'data:image/jpeg;base64,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'",
     "output_type": "error",
     "traceback": [
      "\u001b[1;31m---------------------------------------------------------------------------\u001b[0m",
      "\u001b[1;31mFileNotFoundError\u001b[0m                         Traceback (most recent call last)",
      "Cell \u001b[1;32mIn[12], line 2\u001b[0m\n\u001b[0;32m      1\u001b[0m \u001b[38;5;28;01mfrom\u001b[39;00m\u001b[38;5;250m \u001b[39m\u001b[38;5;21;01mPIL\u001b[39;00m\u001b[38;5;250m \u001b[39m\u001b[38;5;28;01mimport\u001b[39;00m Image\n\u001b[1;32m----> 2\u001b[0m \u001b[38;5;28;01mwith\u001b[39;00m \u001b[43mImage\u001b[49m\u001b[38;5;241;43m.\u001b[39;49m\u001b[43mopen\u001b[49m\u001b[43m(\u001b[49m\u001b[38;5;124;43m'\u001b[39;49m\u001b[38;5;124;43mdata:image/jpeg;base64,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\u001b[39;49m\u001b[38;5;124;43m'\u001b[39;49m\u001b[43m)\u001b[49m \u001b[38;5;28;01mas\u001b[39;00m img:\n\u001b[0;32m      3\u001b[0m     \u001b[38;5;28mprint\u001b[39m(img)\n\u001b[0;32m      4\u001b[0m     \u001b[38;5;28mprint\u001b[39m(img\u001b[38;5;241m.\u001b[39mmode)\n",
      "File \u001b[1;32mc:\\Users\\abdup\\AppData\\Local\\Programs\\Python\\Python310\\lib\\site-packages\\PIL\\Image.py:3465\u001b[0m, in \u001b[0;36mopen\u001b[1;34m(fp, mode, formats)\u001b[0m\n\u001b[0;32m   3462\u001b[0m     filename \u001b[38;5;241m=\u001b[39m os\u001b[38;5;241m.\u001b[39mfspath(fp)\n\u001b[0;32m   3464\u001b[0m \u001b[38;5;28;01mif\u001b[39;00m filename:\n\u001b[1;32m-> 3465\u001b[0m     fp \u001b[38;5;241m=\u001b[39m \u001b[43mbuiltins\u001b[49m\u001b[38;5;241;43m.\u001b[39;49m\u001b[43mopen\u001b[49m\u001b[43m(\u001b[49m\u001b[43mfilename\u001b[49m\u001b[43m,\u001b[49m\u001b[43m \u001b[49m\u001b[38;5;124;43m\"\u001b[39;49m\u001b[38;5;124;43mrb\u001b[39;49m\u001b[38;5;124;43m\"\u001b[39;49m\u001b[43m)\u001b[49m\n\u001b[0;32m   3466\u001b[0m     exclusive_fp \u001b[38;5;241m=\u001b[39m \u001b[38;5;28;01mTrue\u001b[39;00m\n\u001b[0;32m   3467\u001b[0m \u001b[38;5;28;01melse\u001b[39;00m:\n",
      "\u001b[1;31mFileNotFoundError\u001b[0m: [Errno 2] No such file or directory: 'data:image/jpeg;base64,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'"
     ]
    }
   ],
   "source": [
    "from PIL import Image\n",
    "with Image.open('data:image/jpeg;base64,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') as img:\n",
    "    print(img)\n",
    "    print(img.mode)"
   ]
  },
  {
   "cell_type": "markdown",
   "metadata": {},
   "source": [
    "### vectorize\n"
   ]
  },
  {
   "cell_type": "code",
   "execution_count": 13,
   "metadata": {},
   "outputs": [
    {
     "data": {
      "text/plain": [
       "5"
      ]
     },
     "execution_count": 13,
     "metadata": {},
     "output_type": "execute_result"
    }
   ],
   "source": [
    "def add(x1, x2):\n",
    "    return x1 + x2\n",
    "\n",
    "add(2,3)"
   ]
  },
  {
   "cell_type": "code",
   "execution_count": 14,
   "metadata": {},
   "outputs": [
    {
     "data": {
      "text/plain": [
       "'negative'"
      ]
     },
     "execution_count": 14,
     "metadata": {},
     "output_type": "execute_result"
    }
   ],
   "source": [
    "def categorize(x):\n",
    "    if x < 0:\n",
    "        return 'negative'\n",
    "    elif x == 0:\n",
    "        return 'zero'\n",
    "    else:\n",
    "        return 'positive'\n",
    "    \n",
    "categorize(-5)"
   ]
  },
  {
   "cell_type": "code",
   "execution_count": 17,
   "metadata": {},
   "outputs": [
    {
     "data": {
      "text/plain": [
       "['negative',\n",
       " 'negative',\n",
       " 'zero',\n",
       " 'positive',\n",
       " 'negative',\n",
       " 'positive',\n",
       " 'positive']"
      ]
     },
     "execution_count": 17,
     "metadata": {},
     "output_type": "execute_result"
    }
   ],
   "source": [
    "c = np.array([-1, -2, 0, 5, -3, 4, 6])\n",
    "\n",
    "[categorize(i) for i in c]"
   ]
  },
  {
   "cell_type": "code",
   "execution_count": 19,
   "metadata": {},
   "outputs": [],
   "source": [
    "b=(1,2,3,4,5,6,7)"
   ]
  },
  {
   "cell_type": "code",
   "execution_count": 21,
   "metadata": {},
   "outputs": [
    {
     "data": {
      "text/plain": [
       "(array(12), array(-2))"
      ]
     },
     "execution_count": 21,
     "metadata": {},
     "output_type": "execute_result"
    }
   ],
   "source": [
    "@np.vectorize\n",
    "def compute_metrics(x, y):\n",
    "    sum_xy = x + y\n",
    "    diff_xy = x - y\n",
    "    return sum_xy, diff_xy\n",
    "\n",
    "compute_metrics(5, 7)"
   ]
  },
  {
   "cell_type": "code",
   "execution_count": 23,
   "metadata": {},
   "outputs": [
    {
     "data": {
      "text/plain": [
       "array([7, 6, 5, 4, 7, 5, 9, 7, 3, 8])"
      ]
     },
     "execution_count": 23,
     "metadata": {},
     "output_type": "execute_result"
    }
   ],
   "source": [
    "np.random.uniform(low=3, high=10, size=(10,)).astype(int)"
   ]
  },
  {
   "cell_type": "code",
   "execution_count": 25,
   "metadata": {},
   "outputs": [
    {
     "data": {
      "text/plain": [
       "array([[[13, 90, 12],\n",
       "        [74, 47, 40]]], dtype=int32)"
      ]
     },
     "execution_count": 25,
     "metadata": {},
     "output_type": "execute_result"
    }
   ],
   "source": [
    "np.random.randint(low=1, high=100, size=(1,2, 3))"
   ]
  },
  {
   "cell_type": "code",
   "execution_count": 26,
   "metadata": {},
   "outputs": [
    {
     "ename": "NameError",
     "evalue": "name 'plt' is not defined",
     "output_type": "error",
     "traceback": [
      "\u001b[1;31m---------------------------------------------------------------------------\u001b[0m",
      "\u001b[1;31mNameError\u001b[0m                                 Traceback (most recent call last)",
      "Cell \u001b[1;32mIn[26], line 2\u001b[0m\n\u001b[0;32m      1\u001b[0m t \u001b[38;5;241m=\u001b[39m np\u001b[38;5;241m.\u001b[39mrandom\u001b[38;5;241m.\u001b[39mrandn(\u001b[38;5;241m10000\u001b[39m)\n\u001b[1;32m----> 2\u001b[0m \u001b[43mplt\u001b[49m\u001b[38;5;241m.\u001b[39mhist(t);\n",
      "\u001b[1;31mNameError\u001b[0m: name 'plt' is not defined"
     ]
    }
   ],
   "source": [
    "t = np.random.randn(10000)\n",
    "plt.hist(t);"
   ]
  },
  {
   "cell_type": "code",
   "execution_count": 27,
   "metadata": {},
   "outputs": [],
   "source": [
    "# choice\n",
    "values = np.array([10, 20, 30, 40, 50])\n",
    "probabilities = np.array([0.5, 0.1, 0.1, 0.2, 0.1])\n",
    "\n",
    "vals = np.random.choice(values, size=100, p=probabilities)"
   ]
  },
  {
   "cell_type": "code",
   "execution_count": 38,
   "metadata": {},
   "outputs": [
    {
     "name": "stdout",
     "output_type": "stream",
     "text": [
      "[10 20 30 40]\n"
     ]
    }
   ],
   "source": [
    "# choice\n",
    "values = np.array([10, 20, 30, 40])\n",
    "print(values)\n",
    "probabilities = np.array([0.7, 0.1, 0.1, 0.1])\n",
    "\n",
    "vals = np.random.choice(values, size=100, p=probabilities)"
   ]
  },
  {
   "cell_type": "code",
   "execution_count": 41,
   "metadata": {},
   "outputs": [
    {
     "data": {
      "text/plain": [
       "Counter({10: 66, 40: 19, 20: 10, 30: 5})"
      ]
     },
     "execution_count": 41,
     "metadata": {},
     "output_type": "execute_result"
    }
   ],
   "source": [
    "from collections import Counter\n",
    "Counter(vals.tolist())"
   ]
  },
  {
   "cell_type": "code",
   "execution_count": 48,
   "metadata": {},
   "outputs": [],
   "source": [
    "# shuffle\n",
    "arr = np.array([1, 2, 3, 4, 5])\n",
    "np.random.shuffle(arr)"
   ]
  },
  {
   "cell_type": "code",
   "execution_count": 46,
   "metadata": {},
   "outputs": [
    {
     "data": {
      "text/plain": [
       "array([5, 3, 1, 4, 2])"
      ]
     },
     "execution_count": 46,
     "metadata": {},
     "output_type": "execute_result"
    }
   ],
   "source": [
    "arr"
   ]
  },
  {
   "cell_type": "code",
   "execution_count": 58,
   "metadata": {},
   "outputs": [
    {
     "data": {
      "text/plain": [
       "array([1, 3, 4, 2, 5])"
      ]
     },
     "execution_count": 58,
     "metadata": {},
     "output_type": "execute_result"
    }
   ],
   "source": [
    "arr"
   ]
  },
  {
   "cell_type": "code",
   "execution_count": 59,
   "metadata": {},
   "outputs": [],
   "source": [
    "# permutations\n",
    "arr = np.array([1, 2, 3, 4, 5])\n",
    "permuted = np.random.permutation(arr)"
   ]
  },
  {
   "cell_type": "code",
   "execution_count": 62,
   "metadata": {},
   "outputs": [
    {
     "data": {
      "text/plain": [
       "array([1, 2, 3, 4, 5])"
      ]
     },
     "execution_count": 62,
     "metadata": {},
     "output_type": "execute_result"
    }
   ],
   "source": [
    "arr"
   ]
  },
  {
   "cell_type": "code",
   "execution_count": 63,
   "metadata": {},
   "outputs": [
    {
     "data": {
      "text/plain": [
       "array([5, 2, 4, 3, 1])"
      ]
     },
     "execution_count": 63,
     "metadata": {},
     "output_type": "execute_result"
    }
   ],
   "source": [
    "permuted"
   ]
  },
  {
   "cell_type": "code",
   "execution_count": null,
   "metadata": {},
   "outputs": [],
   "source": [
    "a= np.array([10, 12, 15, 18, 20, 22, 25, 30, 28, 26, 24, 30, 35, 40, 38, 36, 34,\n",
    "       32, 30, 25, 20, 15, 12, 10, 15, 20, 25, 30, 35, 40, 45, 50, 48, 46,\n",
    "       44, 42, 40, 38, 36, 35, 33, 32, 31, 30, 28, 26, 24, 22, 20, 18, 16,\n",
    "       14, 12, 10])\n"
   ]
  },
  {
   "cell_type": "code",
   "execution_count": 64,
   "metadata": {},
   "outputs": [
    {
     "data": {
      "text/plain": [
       "array([10, 12, 15, 18, 20, 22, 25, 30, 28, 26, 24, 30, 35, 40, 38, 36, 34,\n",
       "       32, 30, 25, 20, 15, 12, 10, 15, 20, 25, 30, 35, 40, 45, 50, 48, 46,\n",
       "       44, 42, 40, 38, 36, 35, 33, 32, 31, 30, 28, 26, 24, 22, 20, 18, 16,\n",
       "       14, 12, 10])"
      ]
     },
     "execution_count": 64,
     "metadata": {},
     "output_type": "execute_result"
    }
   ],
   "source": [
    "a"
   ]
  },
  {
   "cell_type": "code",
   "execution_count": 66,
   "metadata": {},
   "outputs": [],
   "source": [
    "b= np.array([ 5, 10,  5, 10,  6, 11,  6, 11,  7, 12,  7, 12,  8, 13,  8, 13,  9,\n",
    "       14,  9, 14, 10, 15, 10, 15, 11, 16, 11, 16, 12, 17, 12, 17, 13, 18,\n",
    "       13, 18, 14, 19, 14, 19, 15, 20, 15, 20, 16, 21, 16, 21, 17, 22, 17,\n",
    "       22, 18, 23])"
   ]
  },
  {
   "cell_type": "code",
   "execution_count": 67,
   "metadata": {},
   "outputs": [
    {
     "data": {
      "text/plain": [
       "array([ 5, 10,  5, 10,  6, 11,  6, 11,  7, 12,  7, 12,  8, 13,  8, 13,  9,\n",
       "       14,  9, 14, 10, 15, 10, 15, 11, 16, 11, 16, 12, 17, 12, 17, 13, 18,\n",
       "       13, 18, 14, 19, 14, 19, 15, 20, 15, 20, 16, 21, 16, 21, 17, 22, 17,\n",
       "       22, 18, 23])"
      ]
     },
     "execution_count": 67,
     "metadata": {},
     "output_type": "execute_result"
    }
   ],
   "source": [
    "b"
   ]
  },
  {
   "cell_type": "code",
   "execution_count": 69,
   "metadata": {},
   "outputs": [
    {
     "data": {
      "text/plain": [
       "54"
      ]
     },
     "execution_count": 69,
     "metadata": {},
     "output_type": "execute_result"
    }
   ],
   "source": [
    "len(a)"
   ]
  },
  {
   "cell_type": "code",
   "execution_count": 71,
   "metadata": {},
   "outputs": [
    {
     "data": {
      "text/plain": [
       "array([41])"
      ]
     },
     "execution_count": 71,
     "metadata": {},
     "output_type": "execute_result"
    }
   ],
   "source": [
    "ix = np.random.permutation(range(len(a)))[:1]\n",
    "ix"
   ]
  },
  {
   "cell_type": "code",
   "execution_count": 72,
   "metadata": {},
   "outputs": [],
   "source": [
    "A = np.array([\n",
    "    [1, 2],\n",
    "    [3, 4]\n",
    "])\n",
    "\n",
    "B = np.array([\n",
    "    [5, 6],\n",
    "    [7, 8]\n",
    "])"
   ]
  },
  {
   "cell_type": "code",
   "execution_count": 75,
   "metadata": {},
   "outputs": [
    {
     "data": {
      "text/plain": [
       "array([[ 5, 12],\n",
       "       [21, 32]])"
      ]
     },
     "execution_count": 75,
     "metadata": {},
     "output_type": "execute_result"
    }
   ],
   "source": [
    "A*B"
   ]
  },
  {
   "cell_type": "code",
   "execution_count": 74,
   "metadata": {},
   "outputs": [
    {
     "data": {
      "text/plain": [
       "array([[19, 22],\n",
       "       [43, 50]])"
      ]
     },
     "execution_count": 74,
     "metadata": {},
     "output_type": "execute_result"
    }
   ],
   "source": [
    "np.dot(A,B)"
   ]
  },
  {
   "cell_type": "code",
   "execution_count": 76,
   "metadata": {},
   "outputs": [
    {
     "data": {
      "text/plain": [
       "array([[19, 22],\n",
       "       [43, 50]])"
      ]
     },
     "execution_count": 76,
     "metadata": {},
     "output_type": "execute_result"
    }
   ],
   "source": [
    "A @ B"
   ]
  },
  {
   "cell_type": "code",
   "execution_count": 78,
   "metadata": {},
   "outputs": [
    {
     "data": {
      "text/plain": [
       "array([[-2. ,  1. ],\n",
       "       [ 1.5, -0.5]])"
      ]
     },
     "execution_count": 78,
     "metadata": {},
     "output_type": "execute_result"
    }
   ],
   "source": [
    "a= np.linalg.inv(A)\n",
    "a"
   ]
  },
  {
   "cell_type": "code",
   "execution_count": 82,
   "metadata": {},
   "outputs": [
    {
     "data": {
      "text/plain": [
       "array([[1, 3],\n",
       "       [2, 4]])"
      ]
     },
     "execution_count": 82,
     "metadata": {},
     "output_type": "execute_result"
    }
   ],
   "source": [
    "A.transpose()"
   ]
  },
  {
   "cell_type": "code",
   "execution_count": 90,
   "metadata": {},
   "outputs": [],
   "source": [
    "A = ([[1,2,9],\n",
    "      [4,5,6],\n",
    "      [14,8,9]])"
   ]
  },
  {
   "cell_type": "code",
   "execution_count": 91,
   "metadata": {},
   "outputs": [
    {
     "data": {
      "text/plain": [
       "np.float64(-248.99999999999994)"
      ]
     },
     "execution_count": 91,
     "metadata": {},
     "output_type": "execute_result"
    }
   ],
   "source": [
    "np.linalg.det(A)"
   ]
  },
  {
   "cell_type": "code",
   "execution_count": 92,
   "metadata": {},
   "outputs": [
    {
     "data": {
      "text/plain": [
       "array([2.2, 3.6])"
      ]
     },
     "execution_count": 92,
     "metadata": {},
     "output_type": "execute_result"
    }
   ],
   "source": [
    "W = np.array([\n",
    "    [2, 1],\n",
    "    [1, 3]\n",
    "])\n",
    "\n",
    "Y = np.array([8, 13])\n",
    "np.linalg.solve(W, Y)"
   ]
  },
  {
   "cell_type": "code",
   "execution_count": 93,
   "metadata": {},
   "outputs": [
    {
     "name": "stdout",
     "output_type": "stream",
     "text": [
      "Addition: [5 7 9]\n",
      "Multiplication: [ 4 10 18]\n"
     ]
    }
   ],
   "source": [
    "import numpy as np\n",
    "\n",
    "# Create two arrays\n",
    "a = np.array([1, 2, 3])\n",
    "b = np.array([4, 5, 6])\n",
    "\n",
    "# Element-wise addition\n",
    "result = a + b\n",
    "print(\"Addition:\", result)\n",
    "\n",
    "# Element-wise multiplication\n",
    "result = a * b\n",
    "print(\"Multiplication:\", result)"
   ]
  },
  {
   "cell_type": "code",
   "execution_count": 94,
   "metadata": {},
   "outputs": [
    {
     "name": "stdout",
     "output_type": "stream",
     "text": [
      "Vectorized function result: [ 4  9 16]\n"
     ]
    }
   ],
   "source": [
    "# Define a Python function\n",
    "def my_function(x):\n",
    "    return x ** 2 + 2 * x + 1\n",
    "\n",
    "# Vectorize the function\n",
    "vectorized_function = np.vectorize(my_function)\n",
    "\n",
    "# Apply to an array\n",
    "a = np.array([1, 2, 3])\n",
    "result = vectorized_function(a)\n",
    "print(\"Vectorized function result:\", result)"
   ]
  },
  {
   "cell_type": "markdown",
   "metadata": {},
   "source": [
    "## Task 1. Write a Python function that converts a temperature from Fahrenheit to Celsius. Use numpy.vectorize to apply this function to an array of temperatures: [32, 68, 100, 212, 77].\n",
    "\n",
    "Formula: \n",
    "C\n",
    "=\n",
    "(\n",
    "F\n",
    "−\n",
    "32\n",
    ")\n",
    "×\n",
    "5\n",
    "9"
   ]
  },
  {
   "cell_type": "code",
   "execution_count": 98,
   "metadata": {},
   "outputs": [
    {
     "name": "stdout",
     "output_type": "stream",
     "text": [
      "Temperature in Celcious: [  0.          20.          37.77777778 100.          25.        ]\n"
     ]
    }
   ],
   "source": [
    "def fahr_to_temp(f):\n",
    "    return (np.array(f)-32)*5/9\n",
    "f=[32, 68, 100, 212, 77]\n",
    "result = fahr_to_temp(f)\n",
    "print(\"Temperature in Celcious:\", result)\n",
    "\n"
   ]
  },
  {
   "cell_type": "code",
   "execution_count": 99,
   "metadata": {},
   "outputs": [
    {
     "data": {
      "text/plain": [
       "array([  2,   9,  64, 625])"
      ]
     },
     "execution_count": 99,
     "metadata": {},
     "output_type": "execute_result"
    }
   ],
   "source": [
    "x = np.array([2,3,4,5])\n",
    "p = np.array([1,2,3,4])\n",
    "np.power(x,p)"
   ]
  },
  {
   "cell_type": "code",
   "execution_count": 108,
   "metadata": {},
   "outputs": [
    {
     "name": "stdout",
     "output_type": "stream",
     "text": [
      "[ 1.7027027   0.62162162 -0.48648649]\n"
     ]
    }
   ],
   "source": [
    "x= np.array([\n",
    "[4,5,6],\n",
    "[3,-1,1],\n",
    "[2,1,-2]\n",
    "])\n",
    "\n",
    "y = np.array([7,4,5])\n",
    "d=np.linalg.solve(x,y)\n",
    "print(d)"
   ]
  }
 ],
 "metadata": {
  "kernelspec": {
   "display_name": "Python 3",
   "language": "python",
   "name": "python3"
  },
  "language_info": {
   "codemirror_mode": {
    "name": "ipython",
    "version": 3
   },
   "file_extension": ".py",
   "mimetype": "text/x-python",
   "name": "python",
   "nbconvert_exporter": "python",
   "pygments_lexer": "ipython3",
   "version": "3.10.10"
  }
 },
 "nbformat": 4,
 "nbformat_minor": 2
}
