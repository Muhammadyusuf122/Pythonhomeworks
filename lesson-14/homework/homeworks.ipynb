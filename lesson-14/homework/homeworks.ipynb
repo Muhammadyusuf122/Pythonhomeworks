{
 "cells": [
  {
   "cell_type": "code",
   "execution_count": 3,
   "metadata": {},
   "outputs": [
    {
     "name": "stdout",
     "output_type": "stream",
     "text": [
      "Temperature in Celcious: [  0.          20.          37.77777778 100.          25.        ]\n",
      "result 1: 0.0\n",
      "result 2: 20.0\n",
      "result 3: 37.77777777777778\n",
      "result 4: 100.0\n",
      "result 5: 25.0\n"
     ]
    }
   ],
   "source": [
    "import numpy as np\n",
    "def fahr_to_temp(f):\n",
    "    return (np.array(f)-32)*5/9\n",
    "f=[32, 68, 100, 212, 77]\n",
    "result = fahr_to_temp(f)\n",
    "print(\"Temperature in Celcious:\", result)\n",
    "print(\"result 1:\", result[0])\n",
    "print(\"result 2:\", result[1])\n",
    "print(\"result 3:\", result[2])\n",
    "print(\"result 4:\", result[3])\n",
    "print(\"result 5:\", result[4])"
   ]
  },
  {
   "cell_type": "code",
   "execution_count": 4,
   "metadata": {},
   "outputs": [
    {
     "data": {
      "text/plain": [
       "array([  2,   9,  64, 625])"
      ]
     },
     "execution_count": 4,
     "metadata": {},
     "output_type": "execute_result"
    }
   ],
   "source": [
    "x = np.array([2,3,4,5])\n",
    "p = np.array([1,2,3,4])\n",
    "np.power(x,p)"
   ]
  },
  {
   "cell_type": "code",
   "execution_count": 6,
   "metadata": {},
   "outputs": [
    {
     "name": "stdout",
     "output_type": "stream",
     "text": [
      "x: 1.7027027027027029\n",
      "y: 0.6216216216216216\n",
      "z: -0.4864864864864865\n"
     ]
    }
   ],
   "source": [
    "x= np.array([\n",
    "[4,5,6],\n",
    "[3,-1,1],\n",
    "[2,1,-2]\n",
    "])\n",
    "\n",
    "y = np.array([7,4,5])\n",
    "d=np.linalg.solve(x,y)\n",
    "print(\"x:\", d[0])\n",
    "print(\"y:\", d[1])\n",
    "print(\"z:\", d[2])"
   ]
  },
  {
   "cell_type": "code",
   "execution_count": 7,
   "metadata": {},
   "outputs": [
    {
     "name": "stdout",
     "output_type": "stream",
     "text": [
      "l1: 0.48963730569948194\n",
      "l2: -0.2253886010362694\n",
      "l3: 2.2176165803108807\n"
     ]
    }
   ],
   "source": [
    "a = np.array([\n",
    "[10, -2, 3],\n",
    "[-2, 8, -1],\n",
    "[3, -1, 6]\n",
    "])\n",
    "\n",
    "b = np.array([12, -5, 15])\n",
    "\n",
    "result = np.linalg.solve(a,b)\n",
    "print(\"l1:\", result[0])\n",
    "print(\"l2:\", result[1])\n",
    "print(\"l3:\", result[2])"
   ]
  },
  {
   "cell_type": "code",
   "execution_count": 15,
   "metadata": {},
   "outputs": [
    {
     "name": "stdout",
     "output_type": "stream",
     "text": [
      "(148, 217, 3)\n"
     ]
    }
   ],
   "source": [
    "import numpy as np\n",
    "from PIL import Image\n",
    "with Image.open('birds.jpg') as img:\n",
    "\n",
    "    image_arrey = np.array(img)\n",
    "print(image_arrey.shape)"
   ]
  },
  {
   "cell_type": "code",
   "execution_count": 16,
   "metadata": {},
   "outputs": [
    {
     "name": "stdout",
     "output_type": "stream",
     "text": [
      "[[[199 207 194]\n",
      "  [194 202 189]\n",
      "  [187 195 184]\n",
      "  ...\n",
      "  [141 148 130]\n",
      "  [144 151 133]\n",
      "  [142 151 132]]\n",
      "\n",
      " [[199 207 194]\n",
      "  [194 202 189]\n",
      "  [186 194 183]\n",
      "  ...\n",
      "  [136 143 125]\n",
      "  [139 146 128]\n",
      "  [141 150 131]]\n",
      "\n",
      " [[199 207 192]\n",
      "  [193 201 186]\n",
      "  [185 193 180]\n",
      "  ...\n",
      "  [132 140 119]\n",
      "  [133 141 120]\n",
      "  [140 149 128]]\n",
      "\n",
      " ...\n",
      "\n",
      " [[242 245 254]\n",
      "  [241 244 253]\n",
      "  [239 244 250]\n",
      "  ...\n",
      "  [169 147 110]\n",
      "  [182 160 123]\n",
      "  [190 167 133]]\n",
      "\n",
      " [[242 245 254]\n",
      "  [241 244 253]\n",
      "  [239 244 250]\n",
      "  ...\n",
      "  [169 147 110]\n",
      "  [170 148 111]\n",
      "  [181 158 124]]\n",
      "\n",
      " [[242 245 254]\n",
      "  [241 244 253]\n",
      "  [239 244 250]\n",
      "  ...\n",
      "  [174 152 115]\n",
      "  [168 146 109]\n",
      "  [154 131  97]]]\n",
      "[[[142 151 132]\n",
      "  [144 151 133]\n",
      "  [141 148 130]\n",
      "  ...\n",
      "  [187 195 184]\n",
      "  [194 202 189]\n",
      "  [199 207 194]]\n",
      "\n",
      " [[141 150 131]\n",
      "  [139 146 128]\n",
      "  [136 143 125]\n",
      "  ...\n",
      "  [186 194 183]\n",
      "  [194 202 189]\n",
      "  [199 207 194]]\n",
      "\n",
      " [[140 149 128]\n",
      "  [133 141 120]\n",
      "  [132 140 119]\n",
      "  ...\n",
      "  [185 193 180]\n",
      "  [193 201 186]\n",
      "  [199 207 192]]\n",
      "\n",
      " ...\n",
      "\n",
      " [[190 167 133]\n",
      "  [182 160 123]\n",
      "  [169 147 110]\n",
      "  ...\n",
      "  [239 244 250]\n",
      "  [241 244 253]\n",
      "  [242 245 254]]\n",
      "\n",
      " [[181 158 124]\n",
      "  [170 148 111]\n",
      "  [169 147 110]\n",
      "  ...\n",
      "  [239 244 250]\n",
      "  [241 244 253]\n",
      "  [242 245 254]]\n",
      "\n",
      " [[154 131  97]\n",
      "  [168 146 109]\n",
      "  [174 152 115]\n",
      "  ...\n",
      "  [239 244 250]\n",
      "  [241 244 253]\n",
      "  [242 245 254]]]\n"
     ]
    }
   ],
   "source": [
    "import numpy as np\n",
    "from PIL import Image\n",
    "\n",
    "\n",
    "with Image.open('birds.jpg') as img:\n",
    " \n",
    "    image_array = np.array(img)\n",
    "    print(image_array)\n",
    "\n",
    "def flip_image(img):\n",
    "    return\n",
    "flipped_horizontal = image_array[:, ::-1, :]\n",
    "print(flipped_horizontal)"
   ]
  },
  {
   "cell_type": "code",
   "execution_count": 17,
   "metadata": {},
   "outputs": [],
   "source": [
    "import numpy as np\n",
    "\n",
    "flipped_vertical = image_array[::-1, :, :]  \n",
    "\n",
    "\n",
    "Image.fromarray(flipped_vertical).show()"
   ]
  },
  {
   "cell_type": "code",
   "execution_count": null,
   "metadata": {},
   "outputs": [],
   "source": []
  },
  {
   "cell_type": "code",
   "execution_count": null,
   "metadata": {},
   "outputs": [],
   "source": []
  },
  {
   "cell_type": "code",
   "execution_count": null,
   "metadata": {},
   "outputs": [],
   "source": []
  },
  {
   "cell_type": "code",
   "execution_count": null,
   "metadata": {},
   "outputs": [],
   "source": []
  },
  {
   "cell_type": "code",
   "execution_count": null,
   "metadata": {},
   "outputs": [],
   "source": []
  },
  {
   "cell_type": "code",
   "execution_count": null,
   "metadata": {},
   "outputs": [],
   "source": []
  },
  {
   "cell_type": "code",
   "execution_count": null,
   "metadata": {},
   "outputs": [],
   "source": []
  },
  {
   "cell_type": "code",
   "execution_count": null,
   "metadata": {},
   "outputs": [],
   "source": []
  }
 ],
 "metadata": {
  "kernelspec": {
   "display_name": "Python 3",
   "language": "python",
   "name": "python3"
  },
  "language_info": {
   "codemirror_mode": {
    "name": "ipython",
    "version": 3
   },
   "file_extension": ".py",
   "mimetype": "text/x-python",
   "name": "python",
   "nbconvert_exporter": "python",
   "pygments_lexer": "ipython3",
   "version": "3.10.10"
  }
 },
 "nbformat": 4,
 "nbformat_minor": 2
}
