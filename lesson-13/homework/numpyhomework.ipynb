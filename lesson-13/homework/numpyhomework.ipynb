{
 "cells": [
  {
   "cell_type": "code",
   "execution_count": 5,
   "metadata": {},
   "outputs": [
    {
     "name": "stdout",
     "output_type": "stream",
     "text": [
      "[10 11 12 13 14 15 16 17 18 19 20 21 22 23 24 25 26 27 28 29 30 31 32 33\n",
      " 34 35 36 37 38 39 40 41 42 43 44 45 46 47 48]\n"
     ]
    }
   ],
   "source": [
    "import numpy as np\n",
    "vector = np.arange(10,49)\n",
    "print(vector)"
   ]
  },
  {
   "cell_type": "code",
   "execution_count": 12,
   "metadata": {},
   "outputs": [
    {
     "name": "stdout",
     "output_type": "stream",
     "text": [
      "[0 1 2 3 4 5 6 7 8]\n",
      "[[0 1 2]\n",
      " [3 4 5]\n",
      " [6 7 8]]\n"
     ]
    }
   ],
   "source": [
    "vector_3 = np.arange(0,9)\n",
    "print(vector_3)\n",
    "print(vector_3.reshape(3,3))"
   ]
  },
  {
   "cell_type": "code",
   "execution_count": 13,
   "metadata": {},
   "outputs": [
    {
     "name": "stdout",
     "output_type": "stream",
     "text": [
      "[[1. 0. 0.]\n",
      " [0. 1. 0.]\n",
      " [0. 0. 1.]]\n"
     ]
    }
   ],
   "source": [
    "identity_matrix = np.eye(3)\n",
    "print(identity_matrix)"
   ]
  },
  {
   "cell_type": "code",
   "execution_count": 20,
   "metadata": {},
   "outputs": [
    {
     "name": "stdout",
     "output_type": "stream",
     "text": [
      "[[[0.18422582 0.47294407 0.30767182]\n",
      "  [0.30037788 0.88110059 0.0953519 ]\n",
      "  [0.48698925 0.76099878 0.77538347]]\n",
      "\n",
      " [[0.15151142 0.3591596  0.44781491]\n",
      "  [0.57037281 0.10822294 0.04009684]\n",
      "  [0.85958692 0.4840958  0.03885641]]\n",
      "\n",
      " [[0.56367313 0.53451468 0.47991604]\n",
      "  [0.66368536 0.34934996 0.24575956]\n",
      "  [0.63195466 0.30598893 0.22298832]]]\n"
     ]
    }
   ],
   "source": [
    "array_333 = np.random.random((3,3,3))\n",
    "print(array_333)"
   ]
  },
  {
   "cell_type": "code",
   "execution_count": 23,
   "metadata": {},
   "outputs": [
    {
     "name": "stdout",
     "output_type": "stream",
     "text": [
      "[[0.19124191 0.91543544 0.75382325 0.44775612 0.85948185 0.17922922\n",
      "  0.60814905 0.93266332 0.08263683 0.85427281]\n",
      " [0.73563279 0.58649225 0.12748941 0.13857815 0.56801937 0.15331818\n",
      "  0.39089952 0.00682133 0.56815476 0.40848975]\n",
      " [0.89662216 0.6256704  0.87973508 0.11813162 0.90187886 0.84428443\n",
      "  0.24831516 0.5377786  0.24556061 0.26034661]\n",
      " [0.21127615 0.3573004  0.76959603 0.42122667 0.96847009 0.49189873\n",
      "  0.85344609 0.14765759 0.88374845 0.67261013]\n",
      " [0.48507717 0.31176189 0.0058041  0.68916955 0.34597883 0.81770282\n",
      "  0.7434622  0.78411516 0.38659873 0.23649894]\n",
      " [0.7999934  0.28606552 0.82255379 0.58194254 0.55551636 0.99936486\n",
      "  0.7667205  0.26300655 0.5465908  0.64995556]\n",
      " [0.48426734 0.10102806 0.50650243 0.75307527 0.57603825 0.61257014\n",
      "  0.55038069 0.70911853 0.67475116 0.88750259]\n",
      " [0.32828227 0.24578509 0.21177878 0.29995293 0.98364087 0.0211763\n",
      "  0.39193422 0.87454124 0.39371942 0.30908413]\n",
      " [0.74280533 0.56012461 0.2253701  0.26024195 0.35895611 0.7692676\n",
      "  0.98397817 0.33330376 0.35246436 0.6257129 ]\n",
      " [0.06008379 0.12418047 0.3646316  0.94630055 0.3991811  0.44240431\n",
      "  0.89108804 0.39297442 0.47533813 0.72541282]]\n",
      "Minimum value: 0.005804097095200134\n",
      "Maximum value: 0.999364860303014\n"
     ]
    }
   ],
   "source": [
    "array_10 = np.random.random((10,10))\n",
    "print(array_10)\n",
    "print(\"Minimum value:\", np.min(array_10))\n",
    "print(\"Maximum value:\", np.max(array_10))"
   ]
  },
  {
   "cell_type": "code",
   "execution_count": 26,
   "metadata": {},
   "outputs": [
    {
     "name": "stdout",
     "output_type": "stream",
     "text": [
      "[0.65808292 0.40330092 0.83709838 0.65073246 0.05675564 0.59054814\n",
      " 0.24904532 0.69146162 0.06199103 0.27028667 0.8429805  0.47710701\n",
      " 0.48992329 0.37233045 0.58963635 0.55403085 0.29347772 0.62098583\n",
      " 0.63850087 0.14676518 0.12451462 0.93210165 0.28108371 0.53911845\n",
      " 0.42384341 0.33672478 0.07954005 0.79440628 0.42842484 0.62949448]\n",
      "The mean: 0.46880978033674986\n"
     ]
    }
   ],
   "source": [
    "vector = np.random.random(30)\n",
    "print(vector)\n",
    "print(\"The mean:\", np.mean(vector))"
   ]
  },
  {
   "cell_type": "code",
   "execution_count": 35,
   "metadata": {},
   "outputs": [
    {
     "name": "stdout",
     "output_type": "stream",
     "text": [
      "Random matrix: [[0.1589764  0.87290632 0.53350011 0.81439854 0.92451684]\n",
      " [0.26211429 0.99871304 0.13527556 0.29067141 0.27960036]\n",
      " [0.40901073 0.96269121 0.86923009 0.80299988 0.94023495]\n",
      " [0.2828888  0.28772084 0.90189079 0.05286292 0.10105321]\n",
      " [0.97279967 0.37174644 0.93523991 0.57724852 0.21348937]]\n",
      "Normalized matrix: [[0.11218848 0.86699086 0.50815365 0.80513351 0.92155607]\n",
      " [0.221231   1.         0.08713076 0.25142302 0.23971815]\n",
      " [0.37653726 0.96191592 0.86310416 0.79308228 0.93817404]\n",
      " [0.24319486 0.24830353 0.89763468 0.         0.05094918]\n",
      " [0.9726031  0.33713959 0.93289304 0.55440665 0.16982231]]\n"
     ]
    }
   ],
   "source": [
    "random_matrix = np.random.random((5,5))\n",
    "normalized_matrix = (random_matrix - np.min(random_matrix)) / (np.max(random_matrix) - np.min(random_matrix))\n",
    "print(\"Random matrix:\", random_matrix)\n",
    "print(\"Normalized matrix:\", normalized_matrix)"
   ]
  },
  {
   "cell_type": "code",
   "execution_count": 42,
   "metadata": {},
   "outputs": [
    {
     "name": "stdout",
     "output_type": "stream",
     "text": [
      "[[0.51656238 0.75712237 0.84073206]\n",
      " [0.17159737 0.52924596 0.59536536]\n",
      " [0.07602452 0.44187051 0.10135086]\n",
      " [0.03840314 0.04335602 0.21597039]\n",
      " [0.18264096 0.65446853 0.63656216]]\n",
      "[[0.61827293 0.28944852 0.42214214]\n",
      " [0.3408425  0.62774008 0.38729683]]\n",
      "[[0.89343292 0.97695533]\n",
      " [0.51061228 0.62129969]\n",
      " [0.21768714 0.34254508]\n",
      " [0.12746316 0.12395038]\n",
      " [0.57107662 0.71962643]]\n"
     ]
    }
   ],
   "source": [
    "#Multiply a 5x3 matrix by a 3x2 matrix (real matrix product).\n",
    "matrix_5_3 = np.random.random((5,3))\n",
    "print(matrix_5_3)\n",
    "matrix_3_2 = np.random.random((3,2))\n",
    "ND_matrixTransposed = matrix_3_2.transpose()\n",
    "print(ND_matrixTransposed)\n",
    "\n",
    "result = np.dot(matrix_5_3,matrix_3_2)\n",
    "print(result)"
   ]
  },
  {
   "cell_type": "code",
   "execution_count": 47,
   "metadata": {},
   "outputs": [
    {
     "name": "stdout",
     "output_type": "stream",
     "text": [
      "Matrix1 [[8 2 2]\n",
      " [2 3 7]\n",
      " [2 7 7]]\n",
      "Matrix2: [[14 16 17]\n",
      " [15 14 18]\n",
      " [15 11 12]]\n",
      "The dot is: [[172 178 196]\n",
      " [178 151 172]\n",
      " [238 207 244]]\n"
     ]
    }
   ],
   "source": [
    "#Create two 3x3 matrices and compute their dot product.\n",
    "\n",
    "matrix1 = np.random.randint(0,9, size=(3,3))\n",
    "print(\"Matrix1\", matrix1)\n",
    "matrix2 = np.random.randint(10,19, size=(3,3))\n",
    "print(\"Matrix2:\", matrix2)\n",
    "result = np.dot(matrix1, matrix2)\n",
    "print(\"The dot is:\",result)"
   ]
  },
  {
   "cell_type": "code",
   "execution_count": 51,
   "metadata": {},
   "outputs": [
    {
     "name": "stdout",
     "output_type": "stream",
     "text": [
      "New matrix: [[ 1  5  9 13]\n",
      " [ 2  6 10 14]\n",
      " [ 3  7 11 15]\n",
      " [ 4  8 12 16]]\n"
     ]
    }
   ],
   "source": [
    "matrix = np.array([[1,2,3,4],\n",
    "                  [5,6,7,8],\n",
    "                  [9,10,11,12],\n",
    "                  [13,14,15,16]\n",
    "                  ])\n",
    "new_matrix = np.matrix.transpose(matrix)\n",
    "print(\"New matrix:\", new_matrix)"
   ]
  },
  {
   "cell_type": "code",
   "execution_count": 53,
   "metadata": {},
   "outputs": [
    {
     "name": "stdout",
     "output_type": "stream",
     "text": [
      "[[ 7  7  5]\n",
      " [12 12  4]\n",
      " [11  9  1]]\n",
      "Determinant of matrix: -63.99999999999998\n"
     ]
    }
   ],
   "source": [
    "#Create a 3x3 matrix and calculate its determinant.\n",
    "matrix = np.random.randint(0,15,size=(3,3))\n",
    "print(matrix)\n",
    "print(\"Determinant of matrix:\", np.linalg.det(matrix))"
   ]
  },
  {
   "cell_type": "code",
   "execution_count": 55,
   "metadata": {},
   "outputs": [
    {
     "name": "stdout",
     "output_type": "stream",
     "text": [
      "A: [[60  4 47 44]\n",
      " [55 86 22 55]\n",
      " [37 41 69 38]]\n",
      "B [[174 169 117]\n",
      " [192 160 193]\n",
      " [181 138 181]\n",
      " [176 178 195]]\n",
      "Dot of A and B: [[27459 25098 24879]\n",
      " [39744 35881 37740]\n",
      " [33487 29099 32141]]\n"
     ]
    }
   ],
   "source": [
    "#Create two matrices ( A ) (3x4) and ( B ) (4x3), and compute the matrix product ( A \\cdot B ).\n",
    "A = np.random.randint(0,100, size=(3,4))\n",
    "print(\"A:\",A)\n",
    "B = np.random.randint(100,200, size=(4,3))\n",
    "print(\"B\", B)\n",
    "print(\"Dot of A and B:\", np.dot(A,B))"
   ]
  },
  {
   "cell_type": "code",
   "execution_count": 57,
   "metadata": {},
   "outputs": [
    {
     "name": "stdout",
     "output_type": "stream",
     "text": [
      "Matrix: [[20 26  6]\n",
      " [80 60 93]\n",
      " [35 82 72]]\n",
      "Vector [[48]\n",
      " [28]\n",
      " [ 0]]\n",
      "Dot product: [[1688]\n",
      " [5520]\n",
      " [3976]]\n"
     ]
    }
   ],
   "source": [
    "#Create a 3x3 random matrix and a 3-element column vector. Compute the matrix-vector product.\n",
    "matrix = np.random.randint(0,100, size =(3,3))\n",
    "print(\"Matrix:\", matrix)\n",
    "vector =np.random.randint(0,100,size = (3,1))\n",
    "print(\"Vector\", vector)\n",
    "print(\"Dot product:\", np.dot(matrix, vector))"
   ]
  },
  {
   "cell_type": "code",
   "execution_count": 59,
   "metadata": {},
   "outputs": [
    {
     "name": "stdout",
     "output_type": "stream",
     "text": [
      "Matrix A (3x3): [[ 3.   2.  -1. ]\n",
      " [ 2.  -2.   4. ]\n",
      " [-1.   0.5 -1. ]]\n",
      "\n",
      "Vector b (3x1): [[ 1]\n",
      " [-2]\n",
      " [ 0]]\n",
      "\n",
      "Solution x (3x1): [[ 1.]\n",
      " [-2.]\n",
      " [-2.]]\n"
     ]
    }
   ],
   "source": [
    "import numpy as np\n",
    "\n",
    "A = np.array([[3, 2, -1],\n",
    "              [2, -2, 4],\n",
    "              [-1, 0.5, -1]])\n",
    "\n",
    "b = np.array([[1],\n",
    "              [-2],\n",
    "              [0]])\n",
    "\n",
    "\n",
    "x = np.linalg.solve(A, b)\n",
    "\n",
    "print(\"Matrix A (3x3):\",A)\n",
    "\n",
    "\n",
    "print(\"\\nVector b (3x1):\",b)\n",
    "\n",
    "\n",
    "print(\"\\nSolution x (3x1):\",x)\n"
   ]
  },
  {
   "cell_type": "code",
   "execution_count": 60,
   "metadata": {},
   "outputs": [
    {
     "name": "stdout",
     "output_type": "stream",
     "text": [
      "Sum row: [ 15  40  65  90 115]\n",
      "Sum of columns elements: [55 60 65 70 75]\n"
     ]
    }
   ],
   "source": [
    "matrix = np.array([[1, 2, 3, 4, 5],\n",
    "                   [6, 7, 8, 9, 10],\n",
    "                   [11, 12, 13, 14, 15],\n",
    "                   [16, 17, 18, 19, 20],\n",
    "                   [21, 22, 23, 24, 25]])\n",
    "print(\"Sum row:\", np.sum(matrix, axis=1))\n",
    "print(\"Sum of columns elements:\", np.sum(matrix, axis=0))"
   ]
  },
  {
   "cell_type": "code",
   "execution_count": null,
   "metadata": {},
   "outputs": [],
   "source": []
  },
  {
   "cell_type": "code",
   "execution_count": null,
   "metadata": {},
   "outputs": [],
   "source": []
  }
 ],
 "metadata": {
  "kernelspec": {
   "display_name": "Python 3",
   "language": "python",
   "name": "python3"
  },
  "language_info": {
   "codemirror_mode": {
    "name": "ipython",
    "version": 3
   },
   "file_extension": ".py",
   "mimetype": "text/x-python",
   "name": "python",
   "nbconvert_exporter": "python",
   "pygments_lexer": "ipython3",
   "version": "3.10.10"
  }
 },
 "nbformat": 4,
 "nbformat_minor": 2
}
