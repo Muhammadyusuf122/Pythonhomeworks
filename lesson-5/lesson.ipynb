{
 "cells": [
  {
   "cell_type": "markdown",
   "metadata": {},
   "source": [
    "## Lesson"
   ]
  },
  {
   "cell_type": "code",
   "execution_count": 1,
   "metadata": {},
   "outputs": [
    {
     "name": "stdout",
     "output_type": "stream",
     "text": [
      "bas_udj_ejf_jfd_nwjfejf\n"
     ]
    }
   ],
   "source": [
    "txt='basudjejfjfdnwjfejf'\n",
    "done=\"euioaEUIOA\"\n",
    "\n",
    "counter=0\n",
    "\n",
    "ans=\"\"\n",
    "\n",
    "for i in range(len(txt)):\n",
    "    counter+=1\n",
    "    ans+=txt[i]\n",
    "    if i!=len(txt)-1 and counter >= 3 and txt[i] not in done:\n",
    "        done+= txt[i]\n",
    "        ans +=\"_\"\n",
    "        counter=0\n",
    "\n",
    "print(ans)"
   ]
  },
  {
   "cell_type": "markdown",
   "metadata": {},
   "source": [
    "##### Comprehension\n"
   ]
  },
  {
   "cell_type": "markdown",
   "metadata": {},
   "source": [
    "#### List Comprehension"
   ]
  },
  {
   "cell_type": "code",
   "execution_count": null,
   "metadata": {},
   "outputs": [
    {
     "name": "stdout",
     "output_type": "stream",
     "text": [
      "[4, 9, 16, 25, 36]\n"
     ]
    }
   ],
   "source": [
    "numbers = [2,3,4,5,6]\n",
    "a_square = []\n",
    "\n",
    "for number in numbers:\n",
    "    a_square.append(number ** 2)\n",
    "print(a_square)"
   ]
  },
  {
   "cell_type": "code",
   "execution_count": 4,
   "metadata": {},
   "outputs": [
    {
     "name": "stdout",
     "output_type": "stream",
     "text": [
      "[4, 9, 16, 25, 36]\n"
     ]
    }
   ],
   "source": [
    "numbers = [2,3,4,5,6]\n",
    "a_square = [x**2 for x in numbers]\n",
    "print(a_square)"
   ]
  },
  {
   "cell_type": "code",
   "execution_count": 6,
   "metadata": {},
   "outputs": [
    {
     "name": "stdout",
     "output_type": "stream",
     "text": [
      "[4, 16, 36]\n"
     ]
    }
   ],
   "source": [
    "numbers = [2,3,4,5,6]\n",
    "a_square = []\n",
    "\n",
    "for number in numbers:\n",
    "    if number % 2 == 0:\n",
    "        a_square.append(number ** 2)\n",
    "print(a_square)"
   ]
  },
  {
   "cell_type": "code",
   "execution_count": 9,
   "metadata": {},
   "outputs": [
    {
     "name": "stdout",
     "output_type": "stream",
     "text": [
      "[[2, 4], [4, 16], [6, 36]]\n"
     ]
    }
   ],
   "source": [
    "numbers = [2,3,4,5,6]\n",
    "a_even = [[val,val**2] for val in numbers if val % 2 == 0]\n",
    "print(a_even)"
   ]
  },
  {
   "cell_type": "markdown",
   "metadata": {},
   "source": [
    "\n",
    "### [<expression> for <item> in <sequence>]\n"
   ]
  },
  {
   "cell_type": "code",
   "execution_count": 10,
   "metadata": {},
   "outputs": [
    {
     "name": "stdout",
     "output_type": "stream",
     "text": [
      "2\n",
      "4\n",
      "6\n",
      "[None, None, None]\n"
     ]
    }
   ],
   "source": [
    "numbers = [2,3,4,5,6]\n",
    "a_even = [print(val) for val in numbers if val % 2 == 0]\n",
    "print(a_even)"
   ]
  },
  {
   "cell_type": "code",
   "execution_count": 23,
   "metadata": {},
   "outputs": [
    {
     "name": "stdout",
     "output_type": "stream",
     "text": [
      "2\n"
     ]
    }
   ],
   "source": [
    "a = 11\n",
    "b = 1 if a % 2==0 else 2\n",
    "print(b)\n"
   ]
  },
  {
   "cell_type": "code",
   "execution_count": 22,
   "metadata": {},
   "outputs": [],
   "source": [
    "a=12\n",
    "if a % 2 ==0:\n",
    "    b=1\n",
    "else:\n",
    "    b=2\n",
    "    print(b)"
   ]
  },
  {
   "cell_type": "code",
   "execution_count": 29,
   "metadata": {},
   "outputs": [
    {
     "name": "stdout",
     "output_type": "stream",
     "text": [
      "i= 0 j= 0\n",
      "- - - - \n",
      "i= 0 j= 1\n",
      "- - - - \n",
      "i= 0 j= 2\n",
      "- - - - \n",
      "i= 1 j= 0\n",
      "- - - - \n",
      "i= 1 j= 1\n",
      "- - - - \n",
      "i= 1 j= 2\n",
      "- - - - \n",
      "i= 2 j= 0\n",
      "- - - - \n",
      "i= 2 j= 1\n",
      "- - - - \n",
      "i= 2 j= 2\n",
      "- - - - \n"
     ]
    }
   ],
   "source": [
    "for i in range(3):\n",
    "    for j in range(3):\n",
    "        print(\"i=\", i, 'j=',j)\n",
    "        print(\"- - - - \")"
   ]
  },
  {
   "cell_type": "code",
   "execution_count": 31,
   "metadata": {},
   "outputs": [
    {
     "name": "stdout",
     "output_type": "stream",
     "text": [
      "[(0, 0), (0, 1), (0, 2), (1, 0), (1, 1), (1, 2), (2, 0), (2, 1), (2, 2)]\n"
     ]
    }
   ],
   "source": [
    "a=[]\n",
    "for i in range(3):\n",
    "    for j in range(3):\n",
    "       a.append((i,j))\n",
    "\n",
    "print(a)\n",
    "\n"
   ]
  },
  {
   "cell_type": "code",
   "execution_count": 36,
   "metadata": {},
   "outputs": [
    {
     "data": {
      "text/plain": [
       "[2, 2, 2]"
      ]
     },
     "execution_count": 36,
     "metadata": {},
     "output_type": "execute_result"
    }
   ],
   "source": [
    "matrix=[[1,2,3], [2,3,4],[5,6,7]]\n",
    "[i for matrix in matrix]\n"
   ]
  },
  {
   "cell_type": "code",
   "execution_count": 37,
   "metadata": {},
   "outputs": [
    {
     "data": {
      "text/plain": [
       "[1, 2, 3, 4, 5, 6, 7, 8, 9]"
      ]
     },
     "execution_count": 37,
     "metadata": {},
     "output_type": "execute_result"
    }
   ],
   "source": [
    "matrix=[[1,2,3], [4,5,6], [7,8,9]]\n",
    "flattened = []\n",
    "for row in matrix:\n",
    "    for item in row:\n",
    "        flattened.append(item)\n",
    "flattened"
   ]
  },
  {
   "cell_type": "markdown",
   "metadata": {},
   "source": [
    "## Dictionary comprehension"
   ]
  },
  {
   "cell_type": "code",
   "execution_count": 42,
   "metadata": {},
   "outputs": [
    {
     "name": "stdout",
     "output_type": "stream",
     "text": [
      "{'a': 1}\n",
      "{'a': 1, 'b': 2}\n",
      "{'a': 1, 'b': 2, 'c': 3}\n",
      "{'a': 1, 'b': 2, 'c': 3, 'd': 4}\n",
      "{'a': 1, 'b': 2, 'c': 3, 'd': 4, 'e': 5}\n"
     ]
    }
   ],
   "source": [
    "\n",
    "keys=['a','b','c','d','e']\n",
    "values= [1,2,3,4,5]\n",
    "\n",
    "d={}\n",
    "for i in range(len(keys)):\n",
    "    d[keys[i]] = values[i]\n",
    "    print(d)\n"
   ]
  },
  {
   "cell_type": "code",
   "execution_count": 44,
   "metadata": {},
   "outputs": [
    {
     "name": "stdout",
     "output_type": "stream",
     "text": [
      "{'a': 1, 'b': 2, 'c': 3, 'd': 4, 'e': 5}\n"
     ]
    }
   ],
   "source": [
    "\n",
    "keys=['a','b','c','d','e']\n",
    "values= [1,2,3,4,5]\n",
    "\n",
    "d = {k:v for (k ,v) in zip(keys, values)}\n",
    "print(d)"
   ]
  },
  {
   "cell_type": "code",
   "execution_count": 45,
   "metadata": {},
   "outputs": [
    {
     "name": "stdout",
     "output_type": "stream",
     "text": [
      "{1: 'a', 2: 'b', 3: 'c', 4: 'd', 5: 'e'}\n"
     ]
    }
   ],
   "source": [
    "d_reverse= {v:k for (k ,v) in d.items()}\n",
    "print(d_reverse)"
   ]
  },
  {
   "cell_type": "code",
   "execution_count": 47,
   "metadata": {},
   "outputs": [
    {
     "name": "stdout",
     "output_type": "stream",
     "text": [
      "{0: {1: 1, 2: 4, 3: 9}, 1: {4: 16, 5: 25, 6: 36}, 2: {6: 36, 7: 49, 8: 64}}\n"
     ]
    }
   ],
   "source": [
    "matrix=[\n",
    "[1,2,3],\n",
    "[4,5,6],\n",
    "[6,7,8]\n",
    "]\n",
    "matrix_squares = {pos: {num:num**2 for num in row} for pos, row in enumerate(matrix)}\n",
    "print(matrix_squares)"
   ]
  },
  {
   "cell_type": "code",
   "execution_count": 46,
   "metadata": {},
   "outputs": [
    {
     "name": "stdout",
     "output_type": "stream",
     "text": [
      "(0, 'apple')\n",
      "(1, 'cheery')\n",
      "(2, 'banana')\n"
     ]
    }
   ],
   "source": [
    "a=['apple','cheery', 'banana']\n",
    "for i in enumerate(a):\n",
    "    print(i)"
   ]
  },
  {
   "cell_type": "markdown",
   "metadata": {},
   "source": [
    "# SET comprehension"
   ]
  },
  {
   "cell_type": "code",
   "execution_count": 56,
   "metadata": {},
   "outputs": [
    {
     "name": "stdout",
     "output_type": "stream",
     "text": [
      "['python', 'is', 'an', 'interpreted', 'object-oriented', 'high-level', 'programming', 'language', 'with', 'dynamic', 'semantics', 'its', 'high-level', 'built', 'in', 'data', 'structures', 'combined', 'with', 'dynamic', 'typing', 'and', 'dynamic', 'binding', 'make', 'it', 'very', 'attractive', 'for', 'rapid', 'application', 'development', 'as', 'well', 'as', 'for', 'use', 'as', 'a', 'scripting', 'or', 'glue', 'language', 'to', 'connect', 'existing', 'components', 'together', \"python's\", 'simple', 'easy', 'to', 'learn', 'syntax', 'emphasizes', 'readability', 'and', 'therefore', 'reduces', 'the', 'cost', 'of', 'program', 'maintenance', 'python', 'supports', 'modules', 'and', 'packages', 'which', 'encourages', 'program', 'modularity', 'and', 'code', 'reuse']\n"
     ]
    }
   ],
   "source": [
    "letter = \"\"\"Python is an interpreted, object-oriented, \n",
    "high-level programming language with dynamic semantics. \n",
    "Its high-level built in data structures, combined with \n",
    "dynamic typing and dynamic binding, make it very attractive \n",
    "for Rapid Application Development, as well as for use as \n",
    "a scripting or glue language to connect existing components \n",
    "together. Python's simple, easy to learn syntax emphasizes \n",
    "readability and therefore reduces the cost of program \n",
    "maintenance. Python supports modules and packages, which \n",
    "encourages program modularity and code reuse.\"\"\"\n",
    "cleaned = letter.lower().replace('.','')\\\n",
    ".replace(',','').replace('\\n','')\\\n",
    ".split()\n",
    "print(cleaned)"
   ]
  },
  {
   "cell_type": "code",
   "execution_count": 57,
   "metadata": {},
   "outputs": [
    {
     "name": "stdout",
     "output_type": "stream",
     "text": [
      "['python', 'is', 'an', 'interpreted', 'object-oriented', 'high-level', 'programming', 'language', 'with', 'dynamic', 'semantics', 'its', 'high-level', 'built', 'in', 'data', 'structures', 'combined', 'with', 'dynamic', 'typing', 'and', 'dynamic', 'binding', 'make', 'it', 'very', 'attractive', 'for', 'rapid', 'application', 'development', 'as', 'well', 'as', 'for', 'use', 'as', 'a', 'scripting', 'or', 'glue', 'language', 'to', 'connect', 'existing', 'components', 'together', \"python's\", 'simple', 'easy', 'to', 'learn', 'syntax', 'emphasizes', 'readability', 'and', 'therefore', 'reduces', 'the', 'cost', 'of', 'program', 'maintenance', 'python', 'supports', 'modules', 'and', 'packages', 'which', 'encourages', 'program', 'modularity', 'and', 'code', 'reuse']\n"
     ]
    }
   ],
   "source": [
    "cleaned = letter.lower().replace('.','')\\\n",
    ".replace(',','').replace('\\n','')\\\n",
    ".split()\n",
    "print(cleaned)"
   ]
  },
  {
   "cell_type": "code",
   "execution_count": 58,
   "metadata": {},
   "outputs": [
    {
     "name": "stdout",
     "output_type": "stream",
     "text": [
      "['is', 'an', 'in', 'it', 'as', 'a', 'or', 'to', 'of']\n"
     ]
    }
   ],
   "source": [
    "unique_words = []\n",
    "for word in cleaned:\n",
    "     if len(word) < 3 and word not in unique_words:\n",
    "          unique_words.append(word)\n",
    "print(unique_words)"
   ]
  },
  {
   "cell_type": "markdown",
   "metadata": {},
   "source": [
    "## Generator Expression"
   ]
  },
  {
   "cell_type": "code",
   "execution_count": null,
   "metadata": {},
   "outputs": [
    {
     "name": "stdout",
     "output_type": "stream",
     "text": [
      "1\n",
      "4\n",
      "9\n"
     ]
    }
   ],
   "source": [
    "a = (num**2 for num in range(4))\n",
    "\n",
    "for i in a:\n",
    "    print(next(a))\n",
    "    print(next(a))\n",
    "    print(next(a))\n",
    "    \n",
    "    for i in a:\n",
    "        print(i)\n"
   ]
  },
  {
   "cell_type": "code",
   "execution_count": 66,
   "metadata": {},
   "outputs": [
    {
     "name": "stdout",
     "output_type": "stream",
     "text": [
      "0\n",
      "<class 'generator'>\n",
      "1\n",
      "<class 'generator'>\n",
      "4\n",
      "<class 'generator'>\n",
      "9\n",
      "<class 'generator'>\n"
     ]
    }
   ],
   "source": [
    "a = (num**2 for num in range(4))\n",
    "for i in a:\n",
    "        print(i)\n",
    "        print(type(a))"
   ]
  },
  {
   "cell_type": "code",
   "execution_count": null,
   "metadata": {},
   "outputs": [
    {
     "data": {
      "text/plain": [
       "[0, 4, 16, 36, 64]"
      ]
     },
     "execution_count": 70,
     "metadata": {},
     "output_type": "execute_result"
    }
   ],
   "source": [
    "(num**2 for num in range(10) if num % 2 == 0)\n"
   ]
  },
  {
   "cell_type": "code",
   "execution_count": 73,
   "metadata": {},
   "outputs": [
    {
     "data": {
      "text/plain": [
       "121"
      ]
     },
     "execution_count": 73,
     "metadata": {},
     "output_type": "execute_result"
    }
   ],
   "source": [
    "sum((num**2 for num in range(10) if num % 2 == 0), start=1)"
   ]
  },
  {
   "cell_type": "code",
   "execution_count": 79,
   "metadata": {},
   "outputs": [
    {
     "data": {
      "text/plain": [
       "45"
      ]
     },
     "execution_count": 79,
     "metadata": {},
     "output_type": "execute_result"
    }
   ],
   "source": [
    "a= (i for i in range(10))\n",
    "sum(a)"
   ]
  },
  {
   "cell_type": "code",
   "execution_count": null,
   "metadata": {},
   "outputs": [],
   "source": []
  },
  {
   "cell_type": "code",
   "execution_count": null,
   "metadata": {},
   "outputs": [],
   "source": []
  },
  {
   "cell_type": "code",
   "execution_count": null,
   "metadata": {},
   "outputs": [],
   "source": []
  },
  {
   "cell_type": "code",
   "execution_count": null,
   "metadata": {},
   "outputs": [],
   "source": []
  },
  {
   "cell_type": "code",
   "execution_count": null,
   "metadata": {},
   "outputs": [],
   "source": []
  },
  {
   "cell_type": "code",
   "execution_count": null,
   "metadata": {},
   "outputs": [],
   "source": []
  }
 ],
 "metadata": {
  "kernelspec": {
   "display_name": "Python 3",
   "language": "python",
   "name": "python3"
  },
  "language_info": {
   "codemirror_mode": {
    "name": "ipython",
    "version": 3
   },
   "file_extension": ".py",
   "mimetype": "text/x-python",
   "name": "python",
   "nbconvert_exporter": "python",
   "pygments_lexer": "ipython3",
   "version": "3.10.10"
  }
 },
 "nbformat": 4,
 "nbformat_minor": 2
}
