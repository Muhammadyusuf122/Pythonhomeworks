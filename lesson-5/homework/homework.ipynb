{
 "cells": [
  {
   "cell_type": "markdown",
   "metadata": {},
   "source": [
    "## Tasks"
   ]
  },
  {
   "cell_type": "markdown",
   "metadata": {},
   "source": [
    "## Write a script called temperature.py that defines two functions:\n",
    "\n",
    "convert_cel_to_far() which takes one float parameter representing degrees Celsius and returns a float representing the same temperature in degrees Fahrenheit using the following formula: F = C * 9/5 + 32\n",
    "convert_far_to_cel() which take one float parameter representing degrees Fahrenheit and returns a float representing the same temperature in degrees Celsius using the following formula: C = (F - 32) * 5/9\n",
    "The script should first prompt the user to enter a temperature in degrees Fahrenheit and then display the temperature converted to Celsius. Then prompt the user to enter a temperature in degrees Celsius and display the temperature converted to Fahrenheit. All converted temperatures should be rounded to 2 decimal places.\n",
    "\n",
    "Here’s a sample run of the program:\n",
    "\n",
    "Enter a temperature in degrees F: 72\n",
    "72 degrees F = 22.22 degrees C\n",
    "\n",
    "Enter a temperature in degrees C: 37\n",
    "37 degrees C = 98.60 degrees F"
   ]
  },
  {
   "cell_type": "code",
   "execution_count": 8,
   "metadata": {},
   "outputs": [
    {
     "name": "stdout",
     "output_type": "stream",
     "text": [
      "45 degrees Celcious is 113.0 degrees Fahrenheit.\n",
      "55 degrees Fahrenheit is 12.78 degrees Celcious.\n"
     ]
    }
   ],
   "source": [
    "temperature= int(input(\"Enter a temperature in degrees Celcious:\"))\n",
    "convert_cel_to_far= (temperature* 9 / 5) +32\n",
    "print(f\"{temperature} degrees Celcious is {round(convert_cel_to_far, 2)} degrees Fahrenheit.\")\n",
    "\n",
    "\n",
    "temperature2= int(input(\"Enter a temperature in degrees Fahrenheit:\"))\n",
    "convert_far_to_cel=(temperature2-32)*5 / 9\n",
    "print(f\"{temperature2} degrees Fahrenheit is {round(convert_far_to_cel, 2)} degrees Celcious.\")\n"
   ]
  },
  {
   "cell_type": "markdown",
   "metadata": {},
   "source": [
    "## \n",
    "In this challenge, you will write a program called invest.py that tracks the growing amount of an investment over time.\n",
    "\n",
    "An initial deposit, called the principal amount, is made. Each year, the amount increases by a fixed percentage, called the annual rate of return.\n",
    "\n",
    "For example, a principal amount of $100 with an annual rate of return of 5% increases the first year by $5. The second year, the increase is 5% of the new amount $105, which is $5.25.\n",
    "\n",
    "Write a function called invest with three parameters: the principal amount, the annual rate of return, and the number of years to calculate. The function signature might look something like this:\n",
    "\n",
    "def invest(amount, rate, years):\n",
    "The function then prints out the amount of the investment, rounded to 2 decimal places, at the end of each year for the specified number of years.\n",
    "\n",
    "For example, calling invest(100, .05, 4) should print the following:\n",
    "\n",
    "year 1: $105.00\n",
    "year 2: $110.25\n",
    "year 3: $115.76\n",
    "year 4: $121.55\n",
    "To finish the program, prompt the user to enter an initial amount, an annual percentage rate, and a number of years. Then call invest() to display the calculations for the values entered by the user."
   ]
  },
  {
   "cell_type": "code",
   "execution_count": 13,
   "metadata": {},
   "outputs": [
    {
     "ename": "NameError",
     "evalue": "name 'enrollments' is not defined",
     "output_type": "error",
     "traceback": [
      "\u001b[1;31m---------------------------------------------------------------------------\u001b[0m",
      "\u001b[1;31mNameError\u001b[0m                                 Traceback (most recent call last)",
      "Cell \u001b[1;32mIn[13], line 25\u001b[0m\n\u001b[0;32m     22\u001b[0m \u001b[38;5;28;01mdef\u001b[39;00m\u001b[38;5;250m \u001b[39m\u001b[38;5;21mmean\u001b[39m(data):\n\u001b[0;32m     23\u001b[0m     \u001b[38;5;28;01mreturn\u001b[39;00m \u001b[38;5;28msum\u001b[39m(data) \u001b[38;5;241m/\u001b[39m \u001b[38;5;28mlen\u001b[39m(data)\n\u001b[1;32m---> 25\u001b[0m total_students \u001b[38;5;241m=\u001b[39m \u001b[38;5;28msum\u001b[39m(\u001b[43menrollments\u001b[49m)\n\u001b[0;32m     26\u001b[0m total_tuition\u001b[38;5;241m=\u001b[39m \u001b[38;5;28msum\u001b[39m(tuition_fee)\n\u001b[0;32m     27\u001b[0m mean_students\u001b[38;5;241m=\u001b[39mmean(enrollments)\n",
      "\u001b[1;31mNameError\u001b[0m: name 'enrollments' is not defined"
     ]
    }
   ],
   "source": [
    "universities = [\n",
    "    ['California Institute of Technology', 2175, 37704],\n",
    "    ['Harvard', 19627, 39849],\n",
    "    ['Massachusetts Institute of Technology', 10566, 40732],\n",
    "    ['Princeton', 7802, 37000],\n",
    "    ['Rice', 5879, 35551],\n",
    "    ['Stanford', 19535, 40569],\n",
    "    ['Yale', 11701, 40500]\n",
    "]\n",
    "def enrollment_stats(universities):\n",
    "    enrollments = [university[1] for university in universities]\n",
    "    tuition_fee=[university[2] for university in universities]\n",
    "    return enrollments, tuition_fee\n",
    "def median(data):\n",
    "    sorted_data= sorted(data)\n",
    "    n=len(sorted_data)\n",
    "    mid = n//2\n",
    "    if n% 2==0:\n",
    "        return (sorted_data[mid-1] + sorted_data[mid] /2)\n",
    "    else:\n",
    "        return sorted_data[mid]\n",
    "def mean(data):\n",
    "    return sum(data) / len(data)\n",
    "    \n",
    "total_students = sum(enrollments)\n",
    "total_tuition= sum(tuition_fee)\n",
    "mean_students=mean(enrollments)\n",
    "mean_tuition= mean(tuition_fee)\n",
    "median_tuition=median(tuition_fee)\n",
    "mean_tuition=mean(tuition_fee)\n",
    "\n",
    "print(f\"Total students: {total_students:,}\")\n",
    "print(f\"Total students: {total_students:,}\")\n",
    "print(f\"  Mean: {mean_students:,.2f}\")\n",
    "print(f\"  Median: {median_students:,}\")\n",
    "print()\n",
    "print(f\"Tuition statistics:\")\n",
    "print(f\"  Mean: $ {mean_tuition:,.2f}\")\n",
    "print(f\"  Median: $ {median_tuition:,}\")"
   ]
  },
  {
   "cell_type": "markdown",
   "metadata": {},
   "source": [
    "## task 5"
   ]
  },
  {
   "cell_type": "code",
   "execution_count": 30,
   "metadata": {},
   "outputs": [
    {
     "data": {
      "text/plain": [
       "True"
      ]
     },
     "execution_count": 30,
     "metadata": {},
     "output_type": "execute_result"
    }
   ],
   "source": [
    "import math\n",
    "def is_prime(n):\n",
    "    for i in range(2, int(math.sqrt(n))+1):\n",
    "        if n % i ==0:\n",
    "            return False\n",
    "    return True\n",
    "is_prime(19)\n",
    "\n",
    "\n",
    "\n",
    "   \n"
   ]
  },
  {
   "cell_type": "code",
   "execution_count": null,
   "metadata": {},
   "outputs": [],
   "source": []
  }
 ],
 "metadata": {
  "kernelspec": {
   "display_name": "Python 3",
   "language": "python",
   "name": "python3"
  },
  "language_info": {
   "codemirror_mode": {
    "name": "ipython",
    "version": 3
   },
   "file_extension": ".py",
   "mimetype": "text/x-python",
   "name": "python",
   "nbconvert_exporter": "python",
   "pygments_lexer": "ipython3",
   "version": "3.10.10"
  }
 },
 "nbformat": 4,
 "nbformat_minor": 2
}
