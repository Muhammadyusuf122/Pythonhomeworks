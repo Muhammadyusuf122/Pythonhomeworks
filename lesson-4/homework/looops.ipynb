{
 "cells": [
  {
   "cell_type": "markdown",
   "metadata": {},
   "source": [
    " ## \n",
    " homework"
   ]
  },
  {
   "cell_type": "code",
   "execution_count": 1,
   "metadata": {},
   "outputs": [
    {
     "name": "stdout",
     "output_type": "stream",
     "text": [
      "[1, 1, 3, 4]\n"
     ]
    }
   ],
   "source": [
    "list1 = [1, 1, 2]\n",
    "list2 = [2, 3, 4]\n",
    "uncommon_elements1=[x for x in list1 if x not in list2]\n",
    "uncommon_elements2=[x for x in list2 if x not in list1]\n",
    "uncommon_elements=uncommon_elements1+uncommon_elements2\n",
    "print(uncommon_elements)"
   ]
  },
  {
   "cell_type": "code",
   "execution_count": 2,
   "metadata": {},
   "outputs": [
    {
     "name": "stdout",
     "output_type": "stream",
     "text": [
      "[1, 2, 3, 4, 5, 6]\n"
     ]
    }
   ],
   "source": [
    "list1 = [1, 2, 3]\n",
    "list2 = [4, 5, 6]\n",
    "unique1=[x for  x in list1 if x not in list2]\n",
    "unique2=[x for x in list2 if x not in list1]\n",
    "unique=unique1+unique2\n",
    "print(unique)"
   ]
  },
  {
   "cell_type": "code",
   "execution_count": 3,
   "metadata": {},
   "outputs": [
    {
     "name": "stdout",
     "output_type": "stream",
     "text": [
      "[2, 2, 5]\n"
     ]
    }
   ],
   "source": [
    "list1 = [1, 1, 2, 3, 4, 2]\n",
    "list2 = [1, 3, 4, 5]\n",
    "uncommon_elements1=[x for  x in list1 if x not in list2]\n",
    "uncommon_elements2=[x for x in list2 if x not in list1]\n",
    "unique_elements=uncommon_elements1+uncommon_elements2\n",
    "print(unique_elements)"
   ]
  },
  {
   "cell_type": "code",
   "execution_count": 4,
   "metadata": {},
   "outputs": [
    {
     "name": "stdout",
     "output_type": "stream",
     "text": [
      "1\n",
      "4\n",
      "9\n",
      "16\n"
     ]
    }
   ],
   "source": [
    "n=5\n",
    "i=1\n",
    "while i<n:\n",
    "   \n",
    "    print(i**2)\n",
    "    i+=1\n"
   ]
  },
  {
   "cell_type": "code",
   "execution_count": 5,
   "metadata": {},
   "outputs": [
    {
     "ename": "SyntaxError",
     "evalue": "invalid syntax (3948908037.py, line 1)",
     "output_type": "error",
     "traceback": [
      "\u001b[1;36m  Cell \u001b[1;32mIn[5], line 1\u001b[1;36m\u001b[0m\n\u001b[1;33m    def insert_underscores(text,3):\u001b[0m\n\u001b[1;37m                                ^\u001b[0m\n\u001b[1;31mSyntaxError\u001b[0m\u001b[1;31m:\u001b[0m invalid syntax\n"
     ]
    }
   ],
   "source": [
    "def insert_underscores(text,3):\n",
    "    chunks=[text[i:i+step] for i in range(0, len(text))],\n",
    "    return'_'.join(chunks)\n",
    "    text='Assalomu alaykum'\n",
    "    result=insert_underscores(text,step=3)\n",
    "    print(result)"
   ]
  },
  {
   "cell_type": "code",
   "execution_count": 6,
   "metadata": {},
   "outputs": [
    {
     "data": {
      "text/plain": [
       "'hur_hurmol'"
      ]
     },
     "execution_count": 6,
     "metadata": {},
     "output_type": "execute_result"
    }
   ],
   "source": [
    "text='hurmolar'\n",
    "text[:3]+'_'+text[:6]"
   ]
  },
  {
   "cell_type": "code",
   "execution_count": 7,
   "metadata": {},
   "outputs": [],
   "source": [
    "def insert_underscore(txt):\n",
    "    vowels:\"aeuioEUIOA\"\n",
    "    result=[]\n",
    "    i=0\n",
    "    while i<len(txt):\n",
    "        result.append(txt[i])\n",
    "        if(i+1)%3 ==0:\n",
    "            if i<len(txt)-1:\n",
    "                next_char=txt[i+1]\n",
    "                if next_char in vowels or (result and result[-1]==\"_\"):\n",
    "                    if i+2<len(txt):\n",
    "                        result.append(next_char)\n",
    "                        result.append(\"_\")\n",
    "                        i+=1\n",
    "                    else:result.append(\"_\")\n",
    "                    i+=1\n",
    "                    return\"\".join(result)\n",
    "                txt='YOUAREHEROISTICPERSON'\n",
    "                print(insert_underscore())"
   ]
  },
  {
   "cell_type": "code",
   "execution_count": 8,
   "metadata": {},
   "outputs": [
    {
     "name": "stdout",
     "output_type": "stream",
     "text": [
      "Welcome to guessing game\n",
      "Please choose 1 to 100, you have 10 opportunities\n"
     ]
    },
    {
     "ename": "ValueError",
     "evalue": "invalid literal for int() with base 10: 'escape'",
     "output_type": "error",
     "traceback": [
      "\u001b[1;31m---------------------------------------------------------------------------\u001b[0m",
      "\u001b[1;31mValueError\u001b[0m                                Traceback (most recent call last)",
      "Cell \u001b[1;32mIn[8], line 6\u001b[0m\n\u001b[0;32m      4\u001b[0m \u001b[38;5;28mprint\u001b[39m(\u001b[38;5;124m\"\u001b[39m\u001b[38;5;124mWelcome to guessing game\u001b[39m\u001b[38;5;124m\"\u001b[39m)\n\u001b[0;32m      5\u001b[0m \u001b[38;5;28mprint\u001b[39m(\u001b[38;5;124m\"\u001b[39m\u001b[38;5;124mPlease choose 1 to 100, you have 10 opportunities\u001b[39m\u001b[38;5;124m\"\u001b[39m)\n\u001b[1;32m----> 6\u001b[0m guess \u001b[38;5;241m=\u001b[39m \u001b[38;5;28;43mint\u001b[39;49m\u001b[43m(\u001b[49m\u001b[38;5;28;43minput\u001b[39;49m\u001b[43m(\u001b[49m\u001b[38;5;124;43m\"\u001b[39;49m\u001b[38;5;124;43mEnter your guess:\u001b[39;49m\u001b[38;5;124;43m\"\u001b[39;49m\u001b[43m \u001b[49m\u001b[43m)\u001b[49m\u001b[43m)\u001b[49m\n\u001b[0;32m      7\u001b[0m \u001b[38;5;28;01mif\u001b[39;00m guess\u001b[38;5;241m>\u001b[39mn\u001b[38;5;241m+\u001b[39m\u001b[38;5;241m20\u001b[39m:\n\u001b[0;32m      8\u001b[0m     \u001b[38;5;28mprint\u001b[39m(\u001b[38;5;124m\"\u001b[39m\u001b[38;5;124mtoo high\u001b[39m\u001b[38;5;124m\"\u001b[39m)\n",
      "\u001b[1;31mValueError\u001b[0m: invalid literal for int() with base 10: 'escape'"
     ]
    }
   ],
   "source": [
    "n=34\n",
    "attempt=1\n",
    "attempts=10\n",
    "print(\"Welcome to guessing game\")\n",
    "print(\"Please choose 1 to 100, you have 10 opportunities\")\n",
    "guess = int(input(\"Enter your guess:\" ))\n",
    "if guess>n+20:\n",
    "    print(\"too high\")\n",
    "    guess = int(input(\"Enter your guess:\" ))\n",
    "elif guess<n-20:\n",
    "    print(\"too high\")\n",
    "    guess = int(input(\"Enter your guess:\" ))\n",
    "elif guess>n+4:\n",
    "    print(\"too close\")\n",
    "    guess = int(input(\"Enter your guess:\" ))\n",
    "elif guess<n-4:\n",
    "    print(\"too close\")\n",
    "    guess = int(input(\"Enter your guess:\" ))\n",
    "elif guess==34:\n",
    "    print(\"Congratulations, you guessed it right\")\n",
    "elif guess<0 or guess>100:\n",
    "    print(\"You are out of range\")\n",
    "    guess = int(input(\"Enter your guess:\" ))"
   ]
  },
  {
   "cell_type": "code",
   "execution_count": null,
   "metadata": {},
   "outputs": [],
   "source": []
  },
  {
   "cell_type": "code",
   "execution_count": null,
   "metadata": {},
   "outputs": [],
   "source": []
  },
  {
   "cell_type": "code",
   "execution_count": null,
   "metadata": {},
   "outputs": [],
   "source": []
  }
 ],
 "metadata": {
  "kernelspec": {
   "display_name": "Python 3",
   "language": "python",
   "name": "python3"
  },
  "language_info": {
   "codemirror_mode": {
    "name": "ipython",
    "version": 3
   },
   "file_extension": ".py",
   "mimetype": "text/x-python",
   "name": "python",
   "nbconvert_exporter": "python",
   "pygments_lexer": "ipython3",
   "version": "3.10.10"
  }
 },
 "nbformat": 4,
 "nbformat_minor": 2
}
