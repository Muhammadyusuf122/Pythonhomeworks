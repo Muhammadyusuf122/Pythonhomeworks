{
 "cells": [
  {
   "cell_type": "code",
   "execution_count": null,
   "metadata": {},
   "outputs": [],
   "source": [
    "import random\n",
    "def number_guessing_game():\n",
    "    while True:\n",
    "        n = random.randint(1,100)\n",
    "        attempts = 10\n",
    "        print(\"Welcome to guessing game\")\n",
    "        print(\"you can choose a number between 1 and 100, you have 10 attempts\")\n",
    "\n",
    "        for attempt in range(1, attempts +1):\n",
    "            guess = int(input(f\"Attempt {attempt}: Enter your guess: \"))\n",
    "            if guess < 1 or guess > 100:\n",
    "                print(\"you are out of range\")\n",
    "                continue\n",
    "            elif guess == n:\n",
    "                print(\"Congratulations, you guessed it right\")\n",
    "                break\n",
    "            elif abs(guess - n) <= 5:\n",
    "                print(\"you are close to it\")\n",
    "            elif guess > n:\n",
    "                print(\"too high\")\n",
    "            else:\n",
    "                print(\"too low\")\n",
    "        else: \n",
    "            print(f\"You lost. The correct answer was {n}.\")\n",
    "\n",
    "        play_again = input(\"Do you want to play again? (yes/no): \").lower()\n",
    "        if play_again != \"yes\":\n",
    "            print(\"Thanks for playing! Goodbye!\")\n",
    "            break\n",
    "if __name__=='__main__':\n",
    "    number_guessing_game()"
   ]
  },
  {
   "cell_type": "markdown",
   "metadata": {},
   "source": [
    "## Password"
   ]
  },
  {
   "cell_type": "code",
   "execution_count": 5,
   "metadata": {},
   "outputs": [
    {
     "name": "stdout",
     "output_type": "stream",
     "text": [
      "Password must contain an uppercase letter.\n",
      "Password is strong\n",
      "Your new password is: heloddosf\n"
     ]
    }
   ],
   "source": [
    "## Password Checker\n",
    "def create_password():\n",
    "    while True:\n",
    "        x = input(\"Enter a password\")\n",
    "        if len(x) < 8:\n",
    "            print(\"Password is too short\")\n",
    "            continue\n",
    "        if not any(char.isupper() for char in x):\n",
    "            print(\"Password must contain an uppercase letter.\")\n",
    "        if not any(char.islower() for char in x):\n",
    "            print(\"Password must contain an uppercase letter.\")\n",
    "            continue\n",
    "        else:\n",
    "            print(\"Password is strong\")\n",
    "            return x\n",
    "valid__password = create_password()\n",
    "print(f\"Your new password is: {valid__password}\")"
   ]
  }
 ],
 "metadata": {
  "kernelspec": {
   "display_name": "Python 3",
   "language": "python",
   "name": "python3"
  },
  "language_info": {
   "codemirror_mode": {
    "name": "ipython",
    "version": 3
   },
   "file_extension": ".py",
   "mimetype": "text/x-python",
   "name": "python",
   "nbconvert_exporter": "python",
   "pygments_lexer": "ipython3",
   "version": "3.10.10"
  }
 },
 "nbformat": 4,
 "nbformat_minor": 2
}
