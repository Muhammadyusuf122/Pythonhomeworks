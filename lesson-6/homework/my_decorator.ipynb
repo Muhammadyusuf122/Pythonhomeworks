{
 "cells": [
  {
   "cell_type": "code",
   "execution_count": 1,
   "metadata": {},
   "outputs": [
    {
     "name": "stdout",
     "output_type": "stream",
     "text": [
      "3.0\n",
      "Denominator cannot be zero\n"
     ]
    }
   ],
   "source": [
    "def my_decorator(func):\n",
    "    def wrapper(*args):\n",
    "       \n",
    "        try:\n",
    "            return func(*args)\n",
    "        except ZeroDivisionError:\n",
    "            return \"Denominator cannot be zero\"\n",
    "    return wrapper\n",
    "@my_decorator\n",
    "def div(a,b):\n",
    "    return a / b\n",
    "\n",
    "print(div(6, 2))\n",
    "print(div(6 , 0))"
   ]
  },
  {
   "cell_type": "code",
   "execution_count": 13,
   "metadata": {},
   "outputs": [
    {
     "name": "stdout",
     "output_type": "stream",
     "text": [
      "220162\n",
      "Muhammadyusuf\n",
      "$5000\n",
      "Industrial Manager\n"
     ]
    }
   ],
   "source": [
    "file = \"employees.txt\"\n",
    "print(input(\"Employee ID: {number}\"))\n",
    "print(input(\"name : str()\"))\n",
    "print(input(\"salary: {number}\")) \n",
    "print(input(\"position, str()\"))\n",
    "\n",
    "\n"
   ]
  },
  {
   "cell_type": "code",
   "execution_count": 37,
   "metadata": {},
   "outputs": [
    {
     "name": "stdout",
     "output_type": "stream",
     "text": [
      " [1] Option 1 \n",
      " [2] Option 2\n",
      " [3] Option 3\n",
      " [4] Option 4\n",
      " [5] Option 5\n",
      "[6] Option 6\n"
     ]
    },
    {
     "name": "stdout",
     "output_type": "stream",
     "text": [
      "View all employee records\n",
      "Invalid Option\n",
      "\n",
      " [1] Option 1 \n",
      " [2] Option 2\n",
      " [3] Option 3\n",
      " [4] Option 4\n",
      " [5] Option 5\n",
      "[6] Option 6\n",
      "Search for an employee by Employee ID\n",
      "Invalid Option\n",
      "\n",
      " [1] Option 1 \n",
      " [2] Option 2\n",
      " [3] Option 3\n",
      " [4] Option 4\n",
      " [5] Option 5\n",
      "[6] Option 6\n",
      "Search for an employee by Employee ID\n",
      "Invalid Option\n",
      "\n",
      " [1] Option 1 \n",
      " [2] Option 2\n",
      " [3] Option 3\n",
      " [4] Option 4\n",
      " [5] Option 5\n",
      "[6] Option 6\n"
     ]
    },
    {
     "ename": "ValueError",
     "evalue": "invalid literal for int() with base 10: ''",
     "output_type": "error",
     "traceback": [
      "\u001b[1;31m---------------------------------------------------------------------------\u001b[0m",
      "\u001b[1;31mValueError\u001b[0m                                Traceback (most recent call last)",
      "Cell \u001b[1;32mIn[37], line 27\u001b[0m\n\u001b[0;32m     25\u001b[0m \u001b[38;5;28mprint\u001b[39m()\n\u001b[0;32m     26\u001b[0m menu()\n\u001b[1;32m---> 27\u001b[0m option\u001b[38;5;241m=\u001b[39m \u001b[38;5;28;43mint\u001b[39;49m\u001b[43m(\u001b[49m\u001b[38;5;28;43minput\u001b[39;49m\u001b[43m(\u001b[49m\u001b[38;5;124;43m\"\u001b[39;49m\u001b[38;5;124;43mEnter your option\u001b[39;49m\u001b[38;5;124;43m\"\u001b[39;49m\u001b[43m)\u001b[49m\u001b[43m)\u001b[49m\n",
      "\u001b[1;31mValueError\u001b[0m: invalid literal for int() with base 10: ''"
     ]
    }
   ],
   "source": [
    "def menu():\n",
    "    print(\" [1] Option 1 \")\n",
    "    print(\" [2] Option 2\")\n",
    "    print(\" [3] Option 3\")\n",
    "    print(\" [4] Option 4\")\n",
    "    print(\" [5] Option 5\")\n",
    "    print(\"[6] Option 6\")\n",
    "menu()\n",
    "option = int(input(\"Enter your option\"))\n",
    "while option != 0:\n",
    "    if option == 1:\n",
    "        print(\"Add new employee record\")\n",
    "    if option == 2:\n",
    "        print(\"View all employee records\")\n",
    "    if option == 3:\n",
    "        print(\"Search for an employee by Employee ID\")\n",
    "    if option == 4:\n",
    "        print(\"Update an employee's information\")\n",
    "    if option == 5:\n",
    "        print(\"Delete an employee record\")\n",
    "    if option == 6:\n",
    "        print(\"Exit\")\n",
    "    else:\n",
    "        print(\"Invalid Option\")\n",
    "    print()\n",
    "    menu()\n",
    "    option= int(input(\"Enter your option\"))\n",
    "        "
   ]
  },
  {
   "cell_type": "markdown",
   "metadata": {},
   "source": [
    "## Word Frequency counter"
   ]
  },
  {
   "cell_type": "code",
   "execution_count": null,
   "metadata": {},
   "outputs": [
    {
     "name": "stdout",
     "output_type": "stream",
     "text": [
      "powerful : 1\n",
      "and : 3\n",
      "fast-flying, : 1\n",
      "the : 2\n",
      "peregrine : 2\n",
      "falcon : 1\n",
      "hunts : 1\n",
      "medium-sized : 1\n",
      "birds, : 1\n",
      "dropping : 1\n",
      "down : 1\n",
      "on : 1\n",
      "them : 1\n",
      "from : 2\n",
      "high : 1\n",
      "above : 1\n",
      "in : 3\n",
      "a : 1\n",
      "spectacular : 1\n",
      "stoop.they : 1\n",
      "were : 1\n",
      "virtually : 1\n",
      "eradicated : 1\n",
      "eastern : 1\n",
      "north : 1\n",
      "america : 1\n",
      "by : 1\n",
      "pesticide : 1\n",
      "poisoning : 1\n",
      "middle : 1\n",
      "20th : 1\n",
      "century.after : 1\n",
      "significant : 1\n",
      "recovery : 1\n",
      "efforts, : 1\n",
      "falcons : 1\n",
      "have : 1\n",
      "made : 1\n",
      "an : 1\n",
      "incredible : 1\n",
      "rebound : 1\n",
      "are : 1\n",
      "now : 1\n",
      "regularly : 1\n",
      "seen : 1\n",
      "many : 1\n",
      "large : 1\n",
      "cities : 1\n",
      "coastal : 1\n",
      "areas. : 1\n"
     ]
    },
    {
     "ename": "AttributeError",
     "evalue": "'_io.TextIOWrapper' object has no attribute 'count'",
     "output_type": "error",
     "traceback": [
      "\u001b[1;31m---------------------------------------------------------------------------\u001b[0m",
      "\u001b[1;31mAttributeError\u001b[0m                            Traceback (most recent call last)",
      "Cell \u001b[1;32mIn[47], line 17\u001b[0m\n\u001b[0;32m     15\u001b[0m \u001b[38;5;28;01mfor\u001b[39;00m key \u001b[38;5;129;01min\u001b[39;00m \u001b[38;5;28mlist\u001b[39m(d\u001b[38;5;241m.\u001b[39mkeys()):\n\u001b[0;32m     16\u001b[0m     \u001b[38;5;28mprint\u001b[39m(key, \u001b[38;5;124m\"\u001b[39m\u001b[38;5;124m:\u001b[39m\u001b[38;5;124m\"\u001b[39m,  d[key])\n\u001b[1;32m---> 17\u001b[0m \u001b[43mtext\u001b[49m\u001b[38;5;241;43m.\u001b[39;49m\u001b[43mcount\u001b[49m()\n",
      "\u001b[1;31mAttributeError\u001b[0m: '_io.TextIOWrapper' object has no attribute 'count'"
     ]
    }
   ],
   "source": [
    "text = open(\"sample.text\")\n",
    "d = dict()\n",
    "for line in text:\n",
    "    line = line.strip()\n",
    "    line = line.lower()\n",
    "    words= line.split()\n",
    "\n",
    "       \n",
    "    for word in words:\n",
    "        if word in d:\n",
    "            d[word] = d[word] +1\n",
    "        else:\n",
    "            d[word] = 1\n",
    "\n",
    "for key in list(d.keys()):\n",
    "    print(key, \":\",  d[key])\n",
    "\n",
    "\n",
    "\n",
    "\n",
    "\n"
   ]
  },
  {
   "cell_type": "code",
   "execution_count": null,
   "metadata": {},
   "outputs": [],
   "source": []
  }
 ],
 "metadata": {
  "kernelspec": {
   "display_name": "Python 3",
   "language": "python",
   "name": "python3"
  },
  "language_info": {
   "codemirror_mode": {
    "name": "ipython",
    "version": 3
   },
   "file_extension": ".py",
   "mimetype": "text/x-python",
   "name": "python",
   "nbconvert_exporter": "python",
   "pygments_lexer": "ipython3",
   "version": "3.10.10"
  }
 },
 "nbformat": 4,
 "nbformat_minor": 2
}
